{
 "cells": [
  {
   "cell_type": "code",
   "execution_count": 1,
   "metadata": {
    "id": "GI0JAVm2RNG2"
   },
   "outputs": [],
   "source": [
    "import pandas as pd\n",
    "import sklearn\n",
    "import numpy as np\n",
    "from sklearn.metrics import confusion_matrix\n",
    "import seaborn as sns\n",
    "import matplotlib.pyplot as plt\n",
    "from sklearn.linear_model import LogisticRegression\n",
    "import time\n",
    "from sklearn.metrics import f1_score, make_scorer\n",
    "from sklearn.metrics import precision_score, recall_score, auc, accuracy_score, roc_auc_score, f1_score, log_loss\n",
    "from sklearn.model_selection import cross_val_score\n",
    "from sklearn import tree\n",
    "from sklearn.ensemble import RandomForestClassifier\n",
    "from sklearn.ensemble import BaggingClassifier\n",
    "from sklearn.svm import SVC\n",
    "from sklearn.naive_bayes import GaussianNB\n",
    "from sklearn.neighbors import KNeighborsClassifier\n",
    "from sklearn.ensemble import GradientBoostingClassifier\n",
    "from sklearn.model_selection import GridSearchCV\n",
    "from sklearn.decomposition import PCA\n",
    "from sklearn import model_selection\n",
    "from sklearn.ensemble import VotingClassifier"
   ]
  },
  {
   "cell_type": "markdown",
   "metadata": {
    "id": "QmcgNjMdqHrO"
   },
   "source": [
    "Классификация доходов\n",
    "Задача прогнозирования состоит в том, чтобы определить, зарабатывает ли человек более 50 тысяч долларов в год.\n",
    "\n",
    "возраст: постоянный.\n",
    "рабочий класс: Частный, самоокупаемый, самоокупаемый, Федеральное правительство, Местное правительство, правительство штата, без оплаты, никогда не работал.\n",
    "НОСРГТ: непрерывный.\n",
    "образование: бакалавры, некоторые-колледж, 11-й, HS-grad, профшкола, Assoc-acdm, Assoc-voc, 9, 7-8, 12, магистры, 1-4, 10, докторантура, 5-6, Дошкольное.\n",
    "количество образования: непрерывное.\n",
    "семейное положение: Женат-гражданский супруг, Разведен, Никогда не состоял в браке, Разведен, Овдовел, Женат-супруг-отсутствует, Женат-AF-супруг.\n",
    "профессия: Техническая поддержка, Ремесленный ремонт, Другое обслуживание, Продажи, Исполнительный менеджмент, Профильная специальность, Обработчики-уборщики, Машинная инспекция, Адм-канцелярский, Сельское хозяйство-рыболовство, Транспорт-переезд, Частный дом-серв, Охрана-серв, Вооруженные Силы.\n",
    "отношения: Жена, Собственный ребенок, Муж, Не член семьи, Другой родственник, Не состоит в браке.\n",
    "раса: белый, азиат-пак-островитянин, амер-индеец-эскимос, Другой, черный.\n",
    "пол: женский, мужской.\n",
    "прирост капитала: непрерывный.\n",
    "потеря капитала: непрерывная.\n",
    "количество часов в неделю: непрерывно.\n",
    "страна происхождения: США, Камбоджа, Англия, Пуэрто-Рико, Канада, Германия, Отдаленные районы США (Гуам-USVI-etc), Индия, Япония, Греция, Южная, Китай, Куба, Иран, Гондурас, Филиппины, Италия, Польша, Ямайка, Вьетнам, Мексика, ПортугалияИрландия, Франция, Доминиканская Республика, Лаос, Эквадор, Тайвань, Гаити, Колумбия, Венгрия, Гватемала, Никарагуа, Шотландия, Таиланд, Югославия, Сальвадор, Тринадад и Тобаго, Перу, Гонконг, Голландия."
   ]
  },
  {
   "cell_type": "code",
   "execution_count": 56,
   "metadata": {
    "colab": {
     "base_uri": "https://localhost:8080/",
     "height": 392
    },
    "id": "7_nWIJzlZI6z",
    "outputId": "c1937914-c53f-4013-b3d3-6031321d6f49"
   },
   "outputs": [
    {
     "data": {
      "text/html": [
       "<div>\n",
       "<style scoped>\n",
       "    .dataframe tbody tr th:only-of-type {\n",
       "        vertical-align: middle;\n",
       "    }\n",
       "\n",
       "    .dataframe tbody tr th {\n",
       "        vertical-align: top;\n",
       "    }\n",
       "\n",
       "    .dataframe thead th {\n",
       "        text-align: right;\n",
       "    }\n",
       "</style>\n",
       "<table border=\"1\" class=\"dataframe\">\n",
       "  <thead>\n",
       "    <tr style=\"text-align: right;\">\n",
       "      <th></th>\n",
       "      <th>age</th>\n",
       "      <th>workclass</th>\n",
       "      <th>fnlwgt</th>\n",
       "      <th>education</th>\n",
       "      <th>education-num</th>\n",
       "      <th>marital-status</th>\n",
       "      <th>occupation</th>\n",
       "      <th>relationship</th>\n",
       "      <th>race</th>\n",
       "      <th>sex</th>\n",
       "      <th>capital-gain</th>\n",
       "      <th>capital-loss</th>\n",
       "      <th>hours-per-week</th>\n",
       "      <th>native-country</th>\n",
       "      <th>income</th>\n",
       "    </tr>\n",
       "  </thead>\n",
       "  <tbody>\n",
       "    <tr>\n",
       "      <th>0</th>\n",
       "      <td>39</td>\n",
       "      <td>State-gov</td>\n",
       "      <td>77516</td>\n",
       "      <td>Bachelors</td>\n",
       "      <td>13</td>\n",
       "      <td>Never-married</td>\n",
       "      <td>Adm-clerical</td>\n",
       "      <td>Not-in-family</td>\n",
       "      <td>White</td>\n",
       "      <td>Male</td>\n",
       "      <td>2174</td>\n",
       "      <td>0</td>\n",
       "      <td>40</td>\n",
       "      <td>United-States</td>\n",
       "      <td>&lt;=50K</td>\n",
       "    </tr>\n",
       "    <tr>\n",
       "      <th>1</th>\n",
       "      <td>50</td>\n",
       "      <td>Self-emp-not-inc</td>\n",
       "      <td>83311</td>\n",
       "      <td>Bachelors</td>\n",
       "      <td>13</td>\n",
       "      <td>Married-civ-spouse</td>\n",
       "      <td>Exec-managerial</td>\n",
       "      <td>Husband</td>\n",
       "      <td>White</td>\n",
       "      <td>Male</td>\n",
       "      <td>0</td>\n",
       "      <td>0</td>\n",
       "      <td>13</td>\n",
       "      <td>United-States</td>\n",
       "      <td>&lt;=50K</td>\n",
       "    </tr>\n",
       "    <tr>\n",
       "      <th>2</th>\n",
       "      <td>38</td>\n",
       "      <td>Private</td>\n",
       "      <td>215646</td>\n",
       "      <td>HS-grad</td>\n",
       "      <td>9</td>\n",
       "      <td>Divorced</td>\n",
       "      <td>Handlers-cleaners</td>\n",
       "      <td>Not-in-family</td>\n",
       "      <td>White</td>\n",
       "      <td>Male</td>\n",
       "      <td>0</td>\n",
       "      <td>0</td>\n",
       "      <td>40</td>\n",
       "      <td>United-States</td>\n",
       "      <td>&lt;=50K</td>\n",
       "    </tr>\n",
       "    <tr>\n",
       "      <th>3</th>\n",
       "      <td>53</td>\n",
       "      <td>Private</td>\n",
       "      <td>234721</td>\n",
       "      <td>11th</td>\n",
       "      <td>7</td>\n",
       "      <td>Married-civ-spouse</td>\n",
       "      <td>Handlers-cleaners</td>\n",
       "      <td>Husband</td>\n",
       "      <td>Black</td>\n",
       "      <td>Male</td>\n",
       "      <td>0</td>\n",
       "      <td>0</td>\n",
       "      <td>40</td>\n",
       "      <td>United-States</td>\n",
       "      <td>&lt;=50K</td>\n",
       "    </tr>\n",
       "    <tr>\n",
       "      <th>4</th>\n",
       "      <td>28</td>\n",
       "      <td>Private</td>\n",
       "      <td>338409</td>\n",
       "      <td>Bachelors</td>\n",
       "      <td>13</td>\n",
       "      <td>Married-civ-spouse</td>\n",
       "      <td>Prof-specialty</td>\n",
       "      <td>Wife</td>\n",
       "      <td>Black</td>\n",
       "      <td>Female</td>\n",
       "      <td>0</td>\n",
       "      <td>0</td>\n",
       "      <td>40</td>\n",
       "      <td>Cuba</td>\n",
       "      <td>&lt;=50K</td>\n",
       "    </tr>\n",
       "  </tbody>\n",
       "</table>\n",
       "</div>"
      ],
      "text/plain": [
       "   age          workclass   fnlwgt   education   education-num  \\\n",
       "0   39          State-gov    77516   Bachelors              13   \n",
       "1   50   Self-emp-not-inc    83311   Bachelors              13   \n",
       "2   38            Private   215646     HS-grad               9   \n",
       "3   53            Private   234721        11th               7   \n",
       "4   28            Private   338409   Bachelors              13   \n",
       "\n",
       "        marital-status          occupation    relationship    race      sex  \\\n",
       "0        Never-married        Adm-clerical   Not-in-family   White     Male   \n",
       "1   Married-civ-spouse     Exec-managerial         Husband   White     Male   \n",
       "2             Divorced   Handlers-cleaners   Not-in-family   White     Male   \n",
       "3   Married-civ-spouse   Handlers-cleaners         Husband   Black     Male   \n",
       "4   Married-civ-spouse      Prof-specialty            Wife   Black   Female   \n",
       "\n",
       "    capital-gain   capital-loss   hours-per-week  native-country  income  \n",
       "0           2174              0               40   United-States   <=50K  \n",
       "1              0              0               13   United-States   <=50K  \n",
       "2              0              0               40   United-States   <=50K  \n",
       "3              0              0               40   United-States   <=50K  \n",
       "4              0              0               40            Cuba   <=50K  "
      ]
     },
     "execution_count": 56,
     "metadata": {},
     "output_type": "execute_result"
    }
   ],
   "source": [
    "data = pd.read_csv('income_evaluation.csv')\n",
    "data.head(5)"
   ]
  },
  {
   "cell_type": "code",
   "execution_count": 57,
   "metadata": {
    "id": "X-XV-jqP4xdM"
   },
   "outputs": [],
   "source": [
    "# удалим дубликаты в данных\n",
    "data=data.drop_duplicates()"
   ]
  },
  {
   "cell_type": "code",
   "execution_count": 4,
   "metadata": {
    "colab": {
     "base_uri": "https://localhost:8080/"
    },
    "id": "hVARgDuUqA6R",
    "outputId": "2e4dad08-3da5-47c9-cb48-69782704cf18"
   },
   "outputs": [
    {
     "name": "stdout",
     "output_type": "stream",
     "text": [
      "<class 'pandas.core.frame.DataFrame'>\n",
      "Int64Index: 32537 entries, 0 to 32560\n",
      "Data columns (total 15 columns):\n",
      " #   Column           Non-Null Count  Dtype \n",
      "---  ------           --------------  ----- \n",
      " 0   age              32537 non-null  int64 \n",
      " 1    workclass       32537 non-null  object\n",
      " 2    fnlwgt          32537 non-null  int64 \n",
      " 3    education       32537 non-null  object\n",
      " 4    education-num   32537 non-null  int64 \n",
      " 5    marital-status  32537 non-null  object\n",
      " 6    occupation      32537 non-null  object\n",
      " 7    relationship    32537 non-null  object\n",
      " 8    race            32537 non-null  object\n",
      " 9    sex             32537 non-null  object\n",
      " 10   capital-gain    32537 non-null  int64 \n",
      " 11   capital-loss    32537 non-null  int64 \n",
      " 12   hours-per-week  32537 non-null  int64 \n",
      " 13   native-country  32537 non-null  object\n",
      " 14   income          32537 non-null  object\n",
      "dtypes: int64(6), object(9)\n",
      "memory usage: 4.0+ MB\n"
     ]
    }
   ],
   "source": [
    "data.info() # сводка информации по датасету"
   ]
  },
  {
   "cell_type": "code",
   "execution_count": 5,
   "metadata": {
    "colab": {
     "base_uri": "https://localhost:8080/"
    },
    "id": "chmKRFffNZcL",
    "outputId": "5d8894f8-c66f-4cdc-dd50-630f8b79412c"
   },
   "outputs": [
    {
     "data": {
      "text/plain": [
       "(32537, 15)"
      ]
     },
     "execution_count": 5,
     "metadata": {},
     "output_type": "execute_result"
    }
   ],
   "source": [
    "data.shape #размерность данных"
   ]
  },
  {
   "cell_type": "code",
   "execution_count": 6,
   "metadata": {
    "colab": {
     "base_uri": "https://localhost:8080/"
    },
    "id": "fE4VQPzAMO-_",
    "outputId": "e358ad36-36ca-4902-83ce-1d4945d76ef9"
   },
   "outputs": [
    {
     "data": {
      "text/plain": [
       "age                0\n",
       " workclass         0\n",
       " fnlwgt            0\n",
       " education         0\n",
       " education-num     0\n",
       " marital-status    0\n",
       " occupation        0\n",
       " relationship      0\n",
       " race              0\n",
       " sex               0\n",
       " capital-gain      0\n",
       " capital-loss      0\n",
       " hours-per-week    0\n",
       " native-country    0\n",
       " income            0\n",
       "dtype: int64"
      ]
     },
     "execution_count": 6,
     "metadata": {},
     "output_type": "execute_result"
    }
   ],
   "source": [
    "data.isna().sum() # пропущенные значения"
   ]
  },
  {
   "cell_type": "code",
   "execution_count": 7,
   "metadata": {
    "colab": {
     "base_uri": "https://localhost:8080/",
     "height": 381
    },
    "id": "LliHLEELOxRG",
    "outputId": "65a70e26-e1fa-4348-aede-6e87e62825a4"
   },
   "outputs": [
    {
     "data": {
      "text/html": [
       "<div>\n",
       "<style scoped>\n",
       "    .dataframe tbody tr th:only-of-type {\n",
       "        vertical-align: middle;\n",
       "    }\n",
       "\n",
       "    .dataframe tbody tr th {\n",
       "        vertical-align: top;\n",
       "    }\n",
       "\n",
       "    .dataframe thead th {\n",
       "        text-align: right;\n",
       "    }\n",
       "</style>\n",
       "<table border=\"1\" class=\"dataframe\">\n",
       "  <thead>\n",
       "    <tr style=\"text-align: right;\">\n",
       "      <th></th>\n",
       "      <th>age</th>\n",
       "      <th>fnlwgt</th>\n",
       "      <th>education-num</th>\n",
       "      <th>capital-gain</th>\n",
       "      <th>capital-loss</th>\n",
       "      <th>hours-per-week</th>\n",
       "    </tr>\n",
       "  </thead>\n",
       "  <tbody>\n",
       "    <tr>\n",
       "      <th>count</th>\n",
       "      <td>32537.000000</td>\n",
       "      <td>3.253700e+04</td>\n",
       "      <td>32537.000000</td>\n",
       "      <td>32537.000000</td>\n",
       "      <td>32537.000000</td>\n",
       "      <td>32537.000000</td>\n",
       "    </tr>\n",
       "    <tr>\n",
       "      <th>mean</th>\n",
       "      <td>38.585549</td>\n",
       "      <td>1.897808e+05</td>\n",
       "      <td>10.081815</td>\n",
       "      <td>1078.443741</td>\n",
       "      <td>87.368227</td>\n",
       "      <td>40.440329</td>\n",
       "    </tr>\n",
       "    <tr>\n",
       "      <th>std</th>\n",
       "      <td>13.637984</td>\n",
       "      <td>1.055565e+05</td>\n",
       "      <td>2.571633</td>\n",
       "      <td>7387.957424</td>\n",
       "      <td>403.101833</td>\n",
       "      <td>12.346889</td>\n",
       "    </tr>\n",
       "    <tr>\n",
       "      <th>min</th>\n",
       "      <td>17.000000</td>\n",
       "      <td>1.228500e+04</td>\n",
       "      <td>1.000000</td>\n",
       "      <td>0.000000</td>\n",
       "      <td>0.000000</td>\n",
       "      <td>1.000000</td>\n",
       "    </tr>\n",
       "    <tr>\n",
       "      <th>25%</th>\n",
       "      <td>28.000000</td>\n",
       "      <td>1.178270e+05</td>\n",
       "      <td>9.000000</td>\n",
       "      <td>0.000000</td>\n",
       "      <td>0.000000</td>\n",
       "      <td>40.000000</td>\n",
       "    </tr>\n",
       "    <tr>\n",
       "      <th>50%</th>\n",
       "      <td>37.000000</td>\n",
       "      <td>1.783560e+05</td>\n",
       "      <td>10.000000</td>\n",
       "      <td>0.000000</td>\n",
       "      <td>0.000000</td>\n",
       "      <td>40.000000</td>\n",
       "    </tr>\n",
       "    <tr>\n",
       "      <th>75%</th>\n",
       "      <td>48.000000</td>\n",
       "      <td>2.369930e+05</td>\n",
       "      <td>12.000000</td>\n",
       "      <td>0.000000</td>\n",
       "      <td>0.000000</td>\n",
       "      <td>45.000000</td>\n",
       "    </tr>\n",
       "    <tr>\n",
       "      <th>max</th>\n",
       "      <td>90.000000</td>\n",
       "      <td>1.484705e+06</td>\n",
       "      <td>16.000000</td>\n",
       "      <td>99999.000000</td>\n",
       "      <td>4356.000000</td>\n",
       "      <td>99.000000</td>\n",
       "    </tr>\n",
       "  </tbody>\n",
       "</table>\n",
       "</div>"
      ],
      "text/plain": [
       "                age        fnlwgt   education-num   capital-gain  \\\n",
       "count  32537.000000  3.253700e+04    32537.000000   32537.000000   \n",
       "mean      38.585549  1.897808e+05       10.081815    1078.443741   \n",
       "std       13.637984  1.055565e+05        2.571633    7387.957424   \n",
       "min       17.000000  1.228500e+04        1.000000       0.000000   \n",
       "25%       28.000000  1.178270e+05        9.000000       0.000000   \n",
       "50%       37.000000  1.783560e+05       10.000000       0.000000   \n",
       "75%       48.000000  2.369930e+05       12.000000       0.000000   \n",
       "max       90.000000  1.484705e+06       16.000000   99999.000000   \n",
       "\n",
       "        capital-loss   hours-per-week  \n",
       "count   32537.000000     32537.000000  \n",
       "mean       87.368227        40.440329  \n",
       "std       403.101833        12.346889  \n",
       "min         0.000000         1.000000  \n",
       "25%         0.000000        40.000000  \n",
       "50%         0.000000        40.000000  \n",
       "75%         0.000000        45.000000  \n",
       "max      4356.000000        99.000000  "
      ]
     },
     "execution_count": 7,
     "metadata": {},
     "output_type": "execute_result"
    }
   ],
   "source": [
    "data.describe()"
   ]
  },
  {
   "cell_type": "code",
   "execution_count": 8,
   "metadata": {
    "colab": {
     "base_uri": "https://localhost:8080/"
    },
    "id": "d1SQfOYSNbb9",
    "outputId": "e0453d4e-0496-41f7-c5a2-35ee723ca251"
   },
   "outputs": [
    {
     "data": {
      "text/plain": [
       "age                 int64\n",
       " workclass         object\n",
       " fnlwgt             int64\n",
       " education         object\n",
       " education-num      int64\n",
       " marital-status    object\n",
       " occupation        object\n",
       " relationship      object\n",
       " race              object\n",
       " sex               object\n",
       " capital-gain       int64\n",
       " capital-loss       int64\n",
       " hours-per-week     int64\n",
       " native-country    object\n",
       " income            object\n",
       "dtype: object"
      ]
     },
     "execution_count": 8,
     "metadata": {},
     "output_type": "execute_result"
    }
   ],
   "source": [
    "data.dtypes # типы признаков"
   ]
  },
  {
   "cell_type": "code",
   "execution_count": 58,
   "metadata": {
    "id": "dK0YnKCpsv4P"
   },
   "outputs": [],
   "source": [
    "data_=data.drop(['age',' education-num',' fnlwgt',' capital-gain',' capital-loss',' hours-per-week'],axis=1)"
   ]
  },
  {
   "cell_type": "code",
   "execution_count": 59,
   "metadata": {
    "colab": {
     "base_uri": "https://localhost:8080/",
     "height": 522
    },
    "id": "HXC-0vcrNrX-",
    "outputId": "344489ce-b23d-4459-9b63-99028bfaa420"
   },
   "outputs": [
    {
     "data": {
      "text/html": [
       "<div>\n",
       "<style scoped>\n",
       "    .dataframe tbody tr th:only-of-type {\n",
       "        vertical-align: middle;\n",
       "    }\n",
       "\n",
       "    .dataframe tbody tr th {\n",
       "        vertical-align: top;\n",
       "    }\n",
       "\n",
       "    .dataframe thead th {\n",
       "        text-align: right;\n",
       "    }\n",
       "</style>\n",
       "<table border=\"1\" class=\"dataframe\">\n",
       "  <thead>\n",
       "    <tr style=\"text-align: right;\">\n",
       "      <th></th>\n",
       "      <th>age</th>\n",
       "      <th>workclass</th>\n",
       "      <th>fnlwgt</th>\n",
       "      <th>education</th>\n",
       "      <th>education-num</th>\n",
       "      <th>marital-status</th>\n",
       "      <th>occupation</th>\n",
       "      <th>relationship</th>\n",
       "      <th>race</th>\n",
       "      <th>sex</th>\n",
       "      <th>capital-gain</th>\n",
       "      <th>capital-loss</th>\n",
       "      <th>hours-per-week</th>\n",
       "      <th>native-country</th>\n",
       "      <th>income</th>\n",
       "    </tr>\n",
       "  </thead>\n",
       "  <tbody>\n",
       "    <tr>\n",
       "      <th>0</th>\n",
       "      <td>39</td>\n",
       "      <td>7.0</td>\n",
       "      <td>77516</td>\n",
       "      <td>9.0</td>\n",
       "      <td>13</td>\n",
       "      <td>4.0</td>\n",
       "      <td>1.0</td>\n",
       "      <td>1.0</td>\n",
       "      <td>4.0</td>\n",
       "      <td>1.0</td>\n",
       "      <td>2174</td>\n",
       "      <td>0</td>\n",
       "      <td>40</td>\n",
       "      <td>39.0</td>\n",
       "      <td>0.0</td>\n",
       "    </tr>\n",
       "    <tr>\n",
       "      <th>1</th>\n",
       "      <td>50</td>\n",
       "      <td>6.0</td>\n",
       "      <td>83311</td>\n",
       "      <td>9.0</td>\n",
       "      <td>13</td>\n",
       "      <td>2.0</td>\n",
       "      <td>4.0</td>\n",
       "      <td>0.0</td>\n",
       "      <td>4.0</td>\n",
       "      <td>1.0</td>\n",
       "      <td>0</td>\n",
       "      <td>0</td>\n",
       "      <td>13</td>\n",
       "      <td>39.0</td>\n",
       "      <td>0.0</td>\n",
       "    </tr>\n",
       "    <tr>\n",
       "      <th>2</th>\n",
       "      <td>38</td>\n",
       "      <td>4.0</td>\n",
       "      <td>215646</td>\n",
       "      <td>11.0</td>\n",
       "      <td>9</td>\n",
       "      <td>0.0</td>\n",
       "      <td>6.0</td>\n",
       "      <td>1.0</td>\n",
       "      <td>4.0</td>\n",
       "      <td>1.0</td>\n",
       "      <td>0</td>\n",
       "      <td>0</td>\n",
       "      <td>40</td>\n",
       "      <td>39.0</td>\n",
       "      <td>0.0</td>\n",
       "    </tr>\n",
       "    <tr>\n",
       "      <th>3</th>\n",
       "      <td>53</td>\n",
       "      <td>4.0</td>\n",
       "      <td>234721</td>\n",
       "      <td>1.0</td>\n",
       "      <td>7</td>\n",
       "      <td>2.0</td>\n",
       "      <td>6.0</td>\n",
       "      <td>0.0</td>\n",
       "      <td>2.0</td>\n",
       "      <td>1.0</td>\n",
       "      <td>0</td>\n",
       "      <td>0</td>\n",
       "      <td>40</td>\n",
       "      <td>39.0</td>\n",
       "      <td>0.0</td>\n",
       "    </tr>\n",
       "    <tr>\n",
       "      <th>4</th>\n",
       "      <td>28</td>\n",
       "      <td>4.0</td>\n",
       "      <td>338409</td>\n",
       "      <td>9.0</td>\n",
       "      <td>13</td>\n",
       "      <td>2.0</td>\n",
       "      <td>10.0</td>\n",
       "      <td>5.0</td>\n",
       "      <td>2.0</td>\n",
       "      <td>0.0</td>\n",
       "      <td>0</td>\n",
       "      <td>0</td>\n",
       "      <td>40</td>\n",
       "      <td>5.0</td>\n",
       "      <td>0.0</td>\n",
       "    </tr>\n",
       "    <tr>\n",
       "      <th>...</th>\n",
       "      <td>...</td>\n",
       "      <td>...</td>\n",
       "      <td>...</td>\n",
       "      <td>...</td>\n",
       "      <td>...</td>\n",
       "      <td>...</td>\n",
       "      <td>...</td>\n",
       "      <td>...</td>\n",
       "      <td>...</td>\n",
       "      <td>...</td>\n",
       "      <td>...</td>\n",
       "      <td>...</td>\n",
       "      <td>...</td>\n",
       "      <td>...</td>\n",
       "      <td>...</td>\n",
       "    </tr>\n",
       "    <tr>\n",
       "      <th>32556</th>\n",
       "      <td>27</td>\n",
       "      <td>4.0</td>\n",
       "      <td>257302</td>\n",
       "      <td>7.0</td>\n",
       "      <td>12</td>\n",
       "      <td>2.0</td>\n",
       "      <td>13.0</td>\n",
       "      <td>5.0</td>\n",
       "      <td>4.0</td>\n",
       "      <td>0.0</td>\n",
       "      <td>0</td>\n",
       "      <td>0</td>\n",
       "      <td>38</td>\n",
       "      <td>39.0</td>\n",
       "      <td>0.0</td>\n",
       "    </tr>\n",
       "    <tr>\n",
       "      <th>32557</th>\n",
       "      <td>40</td>\n",
       "      <td>4.0</td>\n",
       "      <td>154374</td>\n",
       "      <td>11.0</td>\n",
       "      <td>9</td>\n",
       "      <td>2.0</td>\n",
       "      <td>7.0</td>\n",
       "      <td>0.0</td>\n",
       "      <td>4.0</td>\n",
       "      <td>1.0</td>\n",
       "      <td>0</td>\n",
       "      <td>0</td>\n",
       "      <td>40</td>\n",
       "      <td>39.0</td>\n",
       "      <td>1.0</td>\n",
       "    </tr>\n",
       "    <tr>\n",
       "      <th>32558</th>\n",
       "      <td>58</td>\n",
       "      <td>4.0</td>\n",
       "      <td>151910</td>\n",
       "      <td>11.0</td>\n",
       "      <td>9</td>\n",
       "      <td>6.0</td>\n",
       "      <td>1.0</td>\n",
       "      <td>4.0</td>\n",
       "      <td>4.0</td>\n",
       "      <td>0.0</td>\n",
       "      <td>0</td>\n",
       "      <td>0</td>\n",
       "      <td>40</td>\n",
       "      <td>39.0</td>\n",
       "      <td>0.0</td>\n",
       "    </tr>\n",
       "    <tr>\n",
       "      <th>32559</th>\n",
       "      <td>22</td>\n",
       "      <td>4.0</td>\n",
       "      <td>201490</td>\n",
       "      <td>11.0</td>\n",
       "      <td>9</td>\n",
       "      <td>4.0</td>\n",
       "      <td>1.0</td>\n",
       "      <td>3.0</td>\n",
       "      <td>4.0</td>\n",
       "      <td>1.0</td>\n",
       "      <td>0</td>\n",
       "      <td>0</td>\n",
       "      <td>20</td>\n",
       "      <td>39.0</td>\n",
       "      <td>0.0</td>\n",
       "    </tr>\n",
       "    <tr>\n",
       "      <th>32560</th>\n",
       "      <td>52</td>\n",
       "      <td>5.0</td>\n",
       "      <td>287927</td>\n",
       "      <td>11.0</td>\n",
       "      <td>9</td>\n",
       "      <td>2.0</td>\n",
       "      <td>4.0</td>\n",
       "      <td>5.0</td>\n",
       "      <td>4.0</td>\n",
       "      <td>0.0</td>\n",
       "      <td>15024</td>\n",
       "      <td>0</td>\n",
       "      <td>40</td>\n",
       "      <td>39.0</td>\n",
       "      <td>1.0</td>\n",
       "    </tr>\n",
       "  </tbody>\n",
       "</table>\n",
       "<p>32537 rows × 15 columns</p>\n",
       "</div>"
      ],
      "text/plain": [
       "       age   workclass   fnlwgt   education   education-num   marital-status  \\\n",
       "0       39         7.0    77516         9.0              13              4.0   \n",
       "1       50         6.0    83311         9.0              13              2.0   \n",
       "2       38         4.0   215646        11.0               9              0.0   \n",
       "3       53         4.0   234721         1.0               7              2.0   \n",
       "4       28         4.0   338409         9.0              13              2.0   \n",
       "...    ...         ...      ...         ...             ...              ...   \n",
       "32556   27         4.0   257302         7.0              12              2.0   \n",
       "32557   40         4.0   154374        11.0               9              2.0   \n",
       "32558   58         4.0   151910        11.0               9              6.0   \n",
       "32559   22         4.0   201490        11.0               9              4.0   \n",
       "32560   52         5.0   287927        11.0               9              2.0   \n",
       "\n",
       "        occupation   relationship   race   sex   capital-gain   capital-loss  \\\n",
       "0              1.0            1.0    4.0   1.0           2174              0   \n",
       "1              4.0            0.0    4.0   1.0              0              0   \n",
       "2              6.0            1.0    4.0   1.0              0              0   \n",
       "3              6.0            0.0    2.0   1.0              0              0   \n",
       "4             10.0            5.0    2.0   0.0              0              0   \n",
       "...            ...            ...    ...   ...            ...            ...   \n",
       "32556         13.0            5.0    4.0   0.0              0              0   \n",
       "32557          7.0            0.0    4.0   1.0              0              0   \n",
       "32558          1.0            4.0    4.0   0.0              0              0   \n",
       "32559          1.0            3.0    4.0   1.0              0              0   \n",
       "32560          4.0            5.0    4.0   0.0          15024              0   \n",
       "\n",
       "        hours-per-week   native-country   income  \n",
       "0                   40             39.0      0.0  \n",
       "1                   13             39.0      0.0  \n",
       "2                   40             39.0      0.0  \n",
       "3                   40             39.0      0.0  \n",
       "4                   40              5.0      0.0  \n",
       "...                ...              ...      ...  \n",
       "32556               38             39.0      0.0  \n",
       "32557               40             39.0      1.0  \n",
       "32558               40             39.0      0.0  \n",
       "32559               20             39.0      0.0  \n",
       "32560               40             39.0      1.0  \n",
       "\n",
       "[32537 rows x 15 columns]"
      ]
     },
     "execution_count": 59,
     "metadata": {},
     "output_type": "execute_result"
    }
   ],
   "source": [
    "# преобразуем признаки и целевую переменную к числовому формату\n",
    "from sklearn.preprocessing import OrdinalEncoder\n",
    "ordinal_encoder = OrdinalEncoder()\n",
    "object_cols=data_.columns\n",
    "data[object_cols] = ordinal_encoder.fit_transform(data[object_cols])  \n",
    "data"
   ]
  },
  {
   "cell_type": "code",
   "execution_count": 60,
   "metadata": {
    "colab": {
     "base_uri": "https://localhost:8080/"
    },
    "id": "OapfIOxbmsQ-",
    "outputId": "572bf76c-5902-41cf-e089-cf7c0183204e"
   },
   "outputs": [
    {
     "data": {
      "text/plain": [
       "age                  int64\n",
       " workclass         float64\n",
       " fnlwgt              int64\n",
       " education         float64\n",
       " education-num       int64\n",
       " marital-status    float64\n",
       " occupation        float64\n",
       " relationship      float64\n",
       " race              float64\n",
       " sex               float64\n",
       " capital-gain        int64\n",
       " capital-loss        int64\n",
       " hours-per-week      int64\n",
       " native-country    float64\n",
       " income            float64\n",
       "dtype: object"
      ]
     },
     "execution_count": 60,
     "metadata": {},
     "output_type": "execute_result"
    }
   ],
   "source": [
    "data.dtypes"
   ]
  },
  {
   "cell_type": "code",
   "execution_count": 61,
   "metadata": {
    "colab": {
     "base_uri": "https://localhost:8080/",
     "height": 688
    },
    "id": "w1dZf1mmmy5H",
    "outputId": "24f236cd-532f-42ff-eb91-feecc766560f"
   },
   "outputs": [
    {
     "data": {
      "text/html": [
       "<div>\n",
       "<style scoped>\n",
       "    .dataframe tbody tr th:only-of-type {\n",
       "        vertical-align: middle;\n",
       "    }\n",
       "\n",
       "    .dataframe tbody tr th {\n",
       "        vertical-align: top;\n",
       "    }\n",
       "\n",
       "    .dataframe thead th {\n",
       "        text-align: right;\n",
       "    }\n",
       "</style>\n",
       "<table border=\"1\" class=\"dataframe\">\n",
       "  <thead>\n",
       "    <tr style=\"text-align: right;\">\n",
       "      <th></th>\n",
       "      <th>age</th>\n",
       "      <th>workclass</th>\n",
       "      <th>fnlwgt</th>\n",
       "      <th>education</th>\n",
       "      <th>education-num</th>\n",
       "      <th>marital-status</th>\n",
       "      <th>occupation</th>\n",
       "      <th>relationship</th>\n",
       "      <th>race</th>\n",
       "      <th>sex</th>\n",
       "      <th>capital-gain</th>\n",
       "      <th>capital-loss</th>\n",
       "      <th>hours-per-week</th>\n",
       "      <th>native-country</th>\n",
       "      <th>income</th>\n",
       "    </tr>\n",
       "  </thead>\n",
       "  <tbody>\n",
       "    <tr>\n",
       "      <th>age</th>\n",
       "      <td>1.000000</td>\n",
       "      <td>0.003783</td>\n",
       "      <td>-0.076447</td>\n",
       "      <td>-0.010551</td>\n",
       "      <td>0.036224</td>\n",
       "      <td>-0.266137</td>\n",
       "      <td>-0.020911</td>\n",
       "      <td>-0.263744</td>\n",
       "      <td>0.029116</td>\n",
       "      <td>0.088708</td>\n",
       "      <td>0.077676</td>\n",
       "      <td>0.057745</td>\n",
       "      <td>0.068515</td>\n",
       "      <td>-0.001524</td>\n",
       "      <td>0.234037</td>\n",
       "    </tr>\n",
       "    <tr>\n",
       "      <th>workclass</th>\n",
       "      <td>0.003783</td>\n",
       "      <td>1.000000</td>\n",
       "      <td>-0.016601</td>\n",
       "      <td>0.023456</td>\n",
       "      <td>0.052169</td>\n",
       "      <td>-0.064761</td>\n",
       "      <td>0.254993</td>\n",
       "      <td>-0.090433</td>\n",
       "      <td>0.049740</td>\n",
       "      <td>0.095999</td>\n",
       "      <td>0.033852</td>\n",
       "      <td>0.012240</td>\n",
       "      <td>0.139047</td>\n",
       "      <td>-0.007677</td>\n",
       "      <td>0.051665</td>\n",
       "    </tr>\n",
       "    <tr>\n",
       "      <th>fnlwgt</th>\n",
       "      <td>-0.076447</td>\n",
       "      <td>-0.016601</td>\n",
       "      <td>1.000000</td>\n",
       "      <td>-0.028053</td>\n",
       "      <td>-0.043388</td>\n",
       "      <td>0.028123</td>\n",
       "      <td>0.001403</td>\n",
       "      <td>0.008868</td>\n",
       "      <td>-0.021497</td>\n",
       "      <td>0.027089</td>\n",
       "      <td>0.000429</td>\n",
       "      <td>-0.010260</td>\n",
       "      <td>-0.018898</td>\n",
       "      <td>-0.051874</td>\n",
       "      <td>-0.009502</td>\n",
       "    </tr>\n",
       "    <tr>\n",
       "      <th>education</th>\n",
       "      <td>-0.010551</td>\n",
       "      <td>0.023456</td>\n",
       "      <td>-0.028053</td>\n",
       "      <td>1.000000</td>\n",
       "      <td>0.359085</td>\n",
       "      <td>-0.038422</td>\n",
       "      <td>-0.021235</td>\n",
       "      <td>-0.011057</td>\n",
       "      <td>0.014303</td>\n",
       "      <td>-0.027433</td>\n",
       "      <td>0.030085</td>\n",
       "      <td>0.016793</td>\n",
       "      <td>0.055991</td>\n",
       "      <td>0.063870</td>\n",
       "      <td>0.079366</td>\n",
       "    </tr>\n",
       "    <tr>\n",
       "      <th>education-num</th>\n",
       "      <td>0.036224</td>\n",
       "      <td>0.052169</td>\n",
       "      <td>-0.043388</td>\n",
       "      <td>0.359085</td>\n",
       "      <td>1.000000</td>\n",
       "      <td>-0.069161</td>\n",
       "      <td>0.109753</td>\n",
       "      <td>-0.094432</td>\n",
       "      <td>0.032011</td>\n",
       "      <td>0.012205</td>\n",
       "      <td>0.122664</td>\n",
       "      <td>0.079892</td>\n",
       "      <td>0.148422</td>\n",
       "      <td>0.050136</td>\n",
       "      <td>0.335272</td>\n",
       "    </tr>\n",
       "    <tr>\n",
       "      <th>marital-status</th>\n",
       "      <td>-0.266137</td>\n",
       "      <td>-0.064761</td>\n",
       "      <td>0.028123</td>\n",
       "      <td>-0.038422</td>\n",
       "      <td>-0.069161</td>\n",
       "      <td>1.000000</td>\n",
       "      <td>-0.009814</td>\n",
       "      <td>0.185532</td>\n",
       "      <td>-0.067930</td>\n",
       "      <td>-0.129402</td>\n",
       "      <td>-0.043368</td>\n",
       "      <td>-0.034140</td>\n",
       "      <td>-0.190432</td>\n",
       "      <td>-0.023406</td>\n",
       "      <td>-0.199199</td>\n",
       "    </tr>\n",
       "    <tr>\n",
       "      <th>occupation</th>\n",
       "      <td>-0.020911</td>\n",
       "      <td>0.254993</td>\n",
       "      <td>0.001403</td>\n",
       "      <td>-0.021235</td>\n",
       "      <td>0.109753</td>\n",
       "      <td>-0.009814</td>\n",
       "      <td>1.000000</td>\n",
       "      <td>-0.075587</td>\n",
       "      <td>0.006794</td>\n",
       "      <td>0.080501</td>\n",
       "      <td>0.025506</td>\n",
       "      <td>0.017985</td>\n",
       "      <td>0.080501</td>\n",
       "      <td>-0.012406</td>\n",
       "      <td>0.075419</td>\n",
       "    </tr>\n",
       "    <tr>\n",
       "      <th>relationship</th>\n",
       "      <td>-0.263744</td>\n",
       "      <td>-0.090433</td>\n",
       "      <td>0.008868</td>\n",
       "      <td>-0.011057</td>\n",
       "      <td>-0.094432</td>\n",
       "      <td>0.185532</td>\n",
       "      <td>-0.075587</td>\n",
       "      <td>1.000000</td>\n",
       "      <td>-0.116051</td>\n",
       "      <td>-0.582594</td>\n",
       "      <td>-0.057947</td>\n",
       "      <td>-0.061098</td>\n",
       "      <td>-0.248875</td>\n",
       "      <td>-0.005636</td>\n",
       "      <td>-0.250948</td>\n",
       "    </tr>\n",
       "    <tr>\n",
       "      <th>race</th>\n",
       "      <td>0.029116</td>\n",
       "      <td>0.049740</td>\n",
       "      <td>-0.021497</td>\n",
       "      <td>0.014303</td>\n",
       "      <td>0.032011</td>\n",
       "      <td>-0.067930</td>\n",
       "      <td>0.006794</td>\n",
       "      <td>-0.116051</td>\n",
       "      <td>1.000000</td>\n",
       "      <td>0.087472</td>\n",
       "      <td>0.011154</td>\n",
       "      <td>0.018913</td>\n",
       "      <td>0.041920</td>\n",
       "      <td>0.137850</td>\n",
       "      <td>0.071847</td>\n",
       "    </tr>\n",
       "    <tr>\n",
       "      <th>sex</th>\n",
       "      <td>0.088708</td>\n",
       "      <td>0.095999</td>\n",
       "      <td>0.027089</td>\n",
       "      <td>-0.027433</td>\n",
       "      <td>0.012205</td>\n",
       "      <td>-0.129402</td>\n",
       "      <td>0.080501</td>\n",
       "      <td>-0.582594</td>\n",
       "      <td>0.087472</td>\n",
       "      <td>1.000000</td>\n",
       "      <td>0.048489</td>\n",
       "      <td>0.045571</td>\n",
       "      <td>0.229187</td>\n",
       "      <td>-0.008256</td>\n",
       "      <td>0.215969</td>\n",
       "    </tr>\n",
       "    <tr>\n",
       "      <th>capital-gain</th>\n",
       "      <td>0.077676</td>\n",
       "      <td>0.033852</td>\n",
       "      <td>0.000429</td>\n",
       "      <td>0.030085</td>\n",
       "      <td>0.122664</td>\n",
       "      <td>-0.043368</td>\n",
       "      <td>0.025506</td>\n",
       "      <td>-0.057947</td>\n",
       "      <td>0.011154</td>\n",
       "      <td>0.048489</td>\n",
       "      <td>1.000000</td>\n",
       "      <td>-0.031639</td>\n",
       "      <td>0.078408</td>\n",
       "      <td>-0.002034</td>\n",
       "      <td>0.223336</td>\n",
       "    </tr>\n",
       "    <tr>\n",
       "      <th>capital-loss</th>\n",
       "      <td>0.057745</td>\n",
       "      <td>0.012240</td>\n",
       "      <td>-0.010260</td>\n",
       "      <td>0.016793</td>\n",
       "      <td>0.079892</td>\n",
       "      <td>-0.034140</td>\n",
       "      <td>0.017985</td>\n",
       "      <td>-0.061098</td>\n",
       "      <td>0.018913</td>\n",
       "      <td>0.045571</td>\n",
       "      <td>-0.031639</td>\n",
       "      <td>1.000000</td>\n",
       "      <td>0.054229</td>\n",
       "      <td>0.000344</td>\n",
       "      <td>0.150501</td>\n",
       "    </tr>\n",
       "    <tr>\n",
       "      <th>hours-per-week</th>\n",
       "      <td>0.068515</td>\n",
       "      <td>0.139047</td>\n",
       "      <td>-0.018898</td>\n",
       "      <td>0.055991</td>\n",
       "      <td>0.148422</td>\n",
       "      <td>-0.190432</td>\n",
       "      <td>0.080501</td>\n",
       "      <td>-0.248875</td>\n",
       "      <td>0.041920</td>\n",
       "      <td>0.229187</td>\n",
       "      <td>0.078408</td>\n",
       "      <td>0.054229</td>\n",
       "      <td>1.000000</td>\n",
       "      <td>-0.002502</td>\n",
       "      <td>0.229658</td>\n",
       "    </tr>\n",
       "    <tr>\n",
       "      <th>native-country</th>\n",
       "      <td>-0.001524</td>\n",
       "      <td>-0.007677</td>\n",
       "      <td>-0.051874</td>\n",
       "      <td>0.063870</td>\n",
       "      <td>0.050136</td>\n",
       "      <td>-0.023406</td>\n",
       "      <td>-0.012406</td>\n",
       "      <td>-0.005636</td>\n",
       "      <td>0.137850</td>\n",
       "      <td>-0.008256</td>\n",
       "      <td>-0.002034</td>\n",
       "      <td>0.000344</td>\n",
       "      <td>-0.002502</td>\n",
       "      <td>1.000000</td>\n",
       "      <td>0.015618</td>\n",
       "    </tr>\n",
       "    <tr>\n",
       "      <th>income</th>\n",
       "      <td>0.234037</td>\n",
       "      <td>0.051665</td>\n",
       "      <td>-0.009502</td>\n",
       "      <td>0.079366</td>\n",
       "      <td>0.335272</td>\n",
       "      <td>-0.199199</td>\n",
       "      <td>0.075419</td>\n",
       "      <td>-0.250948</td>\n",
       "      <td>0.071847</td>\n",
       "      <td>0.215969</td>\n",
       "      <td>0.223336</td>\n",
       "      <td>0.150501</td>\n",
       "      <td>0.229658</td>\n",
       "      <td>0.015618</td>\n",
       "      <td>1.000000</td>\n",
       "    </tr>\n",
       "  </tbody>\n",
       "</table>\n",
       "</div>"
      ],
      "text/plain": [
       "                      age   workclass    fnlwgt   education   education-num  \\\n",
       "age              1.000000    0.003783 -0.076447   -0.010551        0.036224   \n",
       " workclass       0.003783    1.000000 -0.016601    0.023456        0.052169   \n",
       " fnlwgt         -0.076447   -0.016601  1.000000   -0.028053       -0.043388   \n",
       " education      -0.010551    0.023456 -0.028053    1.000000        0.359085   \n",
       " education-num   0.036224    0.052169 -0.043388    0.359085        1.000000   \n",
       " marital-status -0.266137   -0.064761  0.028123   -0.038422       -0.069161   \n",
       " occupation     -0.020911    0.254993  0.001403   -0.021235        0.109753   \n",
       " relationship   -0.263744   -0.090433  0.008868   -0.011057       -0.094432   \n",
       " race            0.029116    0.049740 -0.021497    0.014303        0.032011   \n",
       " sex             0.088708    0.095999  0.027089   -0.027433        0.012205   \n",
       " capital-gain    0.077676    0.033852  0.000429    0.030085        0.122664   \n",
       " capital-loss    0.057745    0.012240 -0.010260    0.016793        0.079892   \n",
       " hours-per-week  0.068515    0.139047 -0.018898    0.055991        0.148422   \n",
       " native-country -0.001524   -0.007677 -0.051874    0.063870        0.050136   \n",
       " income          0.234037    0.051665 -0.009502    0.079366        0.335272   \n",
       "\n",
       "                  marital-status   occupation   relationship      race  \\\n",
       "age                    -0.266137    -0.020911      -0.263744  0.029116   \n",
       " workclass             -0.064761     0.254993      -0.090433  0.049740   \n",
       " fnlwgt                 0.028123     0.001403       0.008868 -0.021497   \n",
       " education             -0.038422    -0.021235      -0.011057  0.014303   \n",
       " education-num         -0.069161     0.109753      -0.094432  0.032011   \n",
       " marital-status         1.000000    -0.009814       0.185532 -0.067930   \n",
       " occupation            -0.009814     1.000000      -0.075587  0.006794   \n",
       " relationship           0.185532    -0.075587       1.000000 -0.116051   \n",
       " race                  -0.067930     0.006794      -0.116051  1.000000   \n",
       " sex                   -0.129402     0.080501      -0.582594  0.087472   \n",
       " capital-gain          -0.043368     0.025506      -0.057947  0.011154   \n",
       " capital-loss          -0.034140     0.017985      -0.061098  0.018913   \n",
       " hours-per-week        -0.190432     0.080501      -0.248875  0.041920   \n",
       " native-country        -0.023406    -0.012406      -0.005636  0.137850   \n",
       " income                -0.199199     0.075419      -0.250948  0.071847   \n",
       "\n",
       "                      sex   capital-gain   capital-loss   hours-per-week  \\\n",
       "age              0.088708       0.077676       0.057745         0.068515   \n",
       " workclass       0.095999       0.033852       0.012240         0.139047   \n",
       " fnlwgt          0.027089       0.000429      -0.010260        -0.018898   \n",
       " education      -0.027433       0.030085       0.016793         0.055991   \n",
       " education-num   0.012205       0.122664       0.079892         0.148422   \n",
       " marital-status -0.129402      -0.043368      -0.034140        -0.190432   \n",
       " occupation      0.080501       0.025506       0.017985         0.080501   \n",
       " relationship   -0.582594      -0.057947      -0.061098        -0.248875   \n",
       " race            0.087472       0.011154       0.018913         0.041920   \n",
       " sex             1.000000       0.048489       0.045571         0.229187   \n",
       " capital-gain    0.048489       1.000000      -0.031639         0.078408   \n",
       " capital-loss    0.045571      -0.031639       1.000000         0.054229   \n",
       " hours-per-week  0.229187       0.078408       0.054229         1.000000   \n",
       " native-country -0.008256      -0.002034       0.000344        -0.002502   \n",
       " income          0.215969       0.223336       0.150501         0.229658   \n",
       "\n",
       "                  native-country    income  \n",
       "age                    -0.001524  0.234037  \n",
       " workclass             -0.007677  0.051665  \n",
       " fnlwgt                -0.051874 -0.009502  \n",
       " education              0.063870  0.079366  \n",
       " education-num          0.050136  0.335272  \n",
       " marital-status        -0.023406 -0.199199  \n",
       " occupation            -0.012406  0.075419  \n",
       " relationship          -0.005636 -0.250948  \n",
       " race                   0.137850  0.071847  \n",
       " sex                   -0.008256  0.215969  \n",
       " capital-gain          -0.002034  0.223336  \n",
       " capital-loss           0.000344  0.150501  \n",
       " hours-per-week        -0.002502  0.229658  \n",
       " native-country         1.000000  0.015618  \n",
       " income                 0.015618  1.000000  "
      ]
     },
     "execution_count": 61,
     "metadata": {},
     "output_type": "execute_result"
    }
   ],
   "source": [
    "data.corr()"
   ]
  },
  {
   "cell_type": "code",
   "execution_count": 62,
   "metadata": {
    "colab": {
     "base_uri": "https://localhost:8080/",
     "height": 575
    },
    "id": "CEGE8QuiNNoc",
    "outputId": "81d18a66-6918-4f16-f674-9643e53d2e56"
   },
   "outputs": [
    {
     "data": {
      "text/plain": [
       "<matplotlib.axes._subplots.AxesSubplot at 0x7fd5f7d12b20>"
      ]
     },
     "execution_count": 62,
     "metadata": {},
     "output_type": "execute_result"
    },
    {
     "data": {
      "image/png": "[encoded data removed]",
      "text/plain": [
       "<Figure size 720x576 with 2 Axes>"
      ]
     },
     "metadata": {
      "needs_background": "light"
     },
     "output_type": "display_data"
    }
   ],
   "source": [
    "plt.rcParams['figure.figsize'] = (10, 8)\n",
    "sns.heatmap(data.corr(), vmin=0, vmax=1, cmap = 'Blues', annot = True)"
   ]
  },
  {
   "cell_type": "code",
   "execution_count": 14,
   "metadata": {
    "id": "DtxUPUjnm5G_"
   },
   "outputs": [],
   "source": [
    "# видим, что каждый фактор влияет на значение целевой перменной"
   ]
  },
  {
   "cell_type": "code",
   "execution_count": 15,
   "metadata": {
    "colab": {
     "base_uri": "https://localhost:8080/"
    },
    "id": "tE-IFQTk5VcM",
    "outputId": "7c281f7f-b811-4f7c-b8be-ba79f30c291f"
   },
   "outputs": [
    {
     "name": "stdout",
     "output_type": "stream",
     "text": [
      "Общее количество людей, которые зарабатывают больше 50000: 7839.0\n",
      "Процентное отношение людей, которые зарабатывают больше 50000: 24.092571533945968\n"
     ]
    }
   ],
   "source": [
    "print('Общее количество людей, которые зарабатывают больше 50000:', data[' income'].sum())\n",
    "print('Процентное отношение людей, которые зарабатывают больше 50000:',data[' income'].sum()/len(data)*100)"
   ]
  },
  {
   "cell_type": "markdown",
   "metadata": {
    "id": "3_YL8C5mxzHQ"
   },
   "source": [
    "Категориальные переменные"
   ]
  },
  {
   "cell_type": "code",
   "execution_count": 16,
   "metadata": {
    "id": "AxVNNa-H51u9"
   },
   "outputs": [],
   "source": [
    "data_=data_.drop([' income'],axis=1)\n",
    "data_[' education-num']=data[' education-num']\n",
    "data_[' income']=data[' income']"
   ]
  },
  {
   "cell_type": "code",
   "execution_count": 17,
   "metadata": {
    "colab": {
     "base_uri": "https://localhost:8080/",
     "height": 678
    },
    "id": "JmCmueYS6kyr",
    "outputId": "c5dea474-1028-483f-830e-006edfca3697"
   },
   "outputs": [
    {
     "data": {
      "text/html": [
       "<div>\n",
       "<style scoped>\n",
       "    .dataframe tbody tr th:only-of-type {\n",
       "        vertical-align: middle;\n",
       "    }\n",
       "\n",
       "    .dataframe tbody tr th {\n",
       "        vertical-align: top;\n",
       "    }\n",
       "\n",
       "    .dataframe thead th {\n",
       "        text-align: right;\n",
       "    }\n",
       "</style>\n",
       "<table border=\"1\" class=\"dataframe\">\n",
       "  <thead>\n",
       "    <tr style=\"text-align: right;\">\n",
       "      <th></th>\n",
       "      <th>workclass</th>\n",
       "      <th>education</th>\n",
       "      <th>marital-status</th>\n",
       "      <th>occupation</th>\n",
       "      <th>relationship</th>\n",
       "      <th>race</th>\n",
       "      <th>sex</th>\n",
       "      <th>native-country</th>\n",
       "      <th>education-num</th>\n",
       "      <th>income</th>\n",
       "    </tr>\n",
       "  </thead>\n",
       "  <tbody>\n",
       "    <tr>\n",
       "      <th>0</th>\n",
       "      <td>State-gov</td>\n",
       "      <td>Bachelors</td>\n",
       "      <td>Never-married</td>\n",
       "      <td>Adm-clerical</td>\n",
       "      <td>Not-in-family</td>\n",
       "      <td>White</td>\n",
       "      <td>Male</td>\n",
       "      <td>United-States</td>\n",
       "      <td>13</td>\n",
       "      <td>0.0</td>\n",
       "    </tr>\n",
       "    <tr>\n",
       "      <th>1</th>\n",
       "      <td>Self-emp-not-inc</td>\n",
       "      <td>Bachelors</td>\n",
       "      <td>Married-civ-spouse</td>\n",
       "      <td>Exec-managerial</td>\n",
       "      <td>Husband</td>\n",
       "      <td>White</td>\n",
       "      <td>Male</td>\n",
       "      <td>United-States</td>\n",
       "      <td>13</td>\n",
       "      <td>0.0</td>\n",
       "    </tr>\n",
       "    <tr>\n",
       "      <th>2</th>\n",
       "      <td>Private</td>\n",
       "      <td>HS-grad</td>\n",
       "      <td>Divorced</td>\n",
       "      <td>Handlers-cleaners</td>\n",
       "      <td>Not-in-family</td>\n",
       "      <td>White</td>\n",
       "      <td>Male</td>\n",
       "      <td>United-States</td>\n",
       "      <td>9</td>\n",
       "      <td>0.0</td>\n",
       "    </tr>\n",
       "    <tr>\n",
       "      <th>3</th>\n",
       "      <td>Private</td>\n",
       "      <td>11th</td>\n",
       "      <td>Married-civ-spouse</td>\n",
       "      <td>Handlers-cleaners</td>\n",
       "      <td>Husband</td>\n",
       "      <td>Black</td>\n",
       "      <td>Male</td>\n",
       "      <td>United-States</td>\n",
       "      <td>7</td>\n",
       "      <td>0.0</td>\n",
       "    </tr>\n",
       "    <tr>\n",
       "      <th>4</th>\n",
       "      <td>Private</td>\n",
       "      <td>Bachelors</td>\n",
       "      <td>Married-civ-spouse</td>\n",
       "      <td>Prof-specialty</td>\n",
       "      <td>Wife</td>\n",
       "      <td>Black</td>\n",
       "      <td>Female</td>\n",
       "      <td>Cuba</td>\n",
       "      <td>13</td>\n",
       "      <td>0.0</td>\n",
       "    </tr>\n",
       "    <tr>\n",
       "      <th>...</th>\n",
       "      <td>...</td>\n",
       "      <td>...</td>\n",
       "      <td>...</td>\n",
       "      <td>...</td>\n",
       "      <td>...</td>\n",
       "      <td>...</td>\n",
       "      <td>...</td>\n",
       "      <td>...</td>\n",
       "      <td>...</td>\n",
       "      <td>...</td>\n",
       "    </tr>\n",
       "    <tr>\n",
       "      <th>32556</th>\n",
       "      <td>Private</td>\n",
       "      <td>Assoc-acdm</td>\n",
       "      <td>Married-civ-spouse</td>\n",
       "      <td>Tech-support</td>\n",
       "      <td>Wife</td>\n",
       "      <td>White</td>\n",
       "      <td>Female</td>\n",
       "      <td>United-States</td>\n",
       "      <td>12</td>\n",
       "      <td>0.0</td>\n",
       "    </tr>\n",
       "    <tr>\n",
       "      <th>32557</th>\n",
       "      <td>Private</td>\n",
       "      <td>HS-grad</td>\n",
       "      <td>Married-civ-spouse</td>\n",
       "      <td>Machine-op-inspct</td>\n",
       "      <td>Husband</td>\n",
       "      <td>White</td>\n",
       "      <td>Male</td>\n",
       "      <td>United-States</td>\n",
       "      <td>9</td>\n",
       "      <td>1.0</td>\n",
       "    </tr>\n",
       "    <tr>\n",
       "      <th>32558</th>\n",
       "      <td>Private</td>\n",
       "      <td>HS-grad</td>\n",
       "      <td>Widowed</td>\n",
       "      <td>Adm-clerical</td>\n",
       "      <td>Unmarried</td>\n",
       "      <td>White</td>\n",
       "      <td>Female</td>\n",
       "      <td>United-States</td>\n",
       "      <td>9</td>\n",
       "      <td>0.0</td>\n",
       "    </tr>\n",
       "    <tr>\n",
       "      <th>32559</th>\n",
       "      <td>Private</td>\n",
       "      <td>HS-grad</td>\n",
       "      <td>Never-married</td>\n",
       "      <td>Adm-clerical</td>\n",
       "      <td>Own-child</td>\n",
       "      <td>White</td>\n",
       "      <td>Male</td>\n",
       "      <td>United-States</td>\n",
       "      <td>9</td>\n",
       "      <td>0.0</td>\n",
       "    </tr>\n",
       "    <tr>\n",
       "      <th>32560</th>\n",
       "      <td>Self-emp-inc</td>\n",
       "      <td>HS-grad</td>\n",
       "      <td>Married-civ-spouse</td>\n",
       "      <td>Exec-managerial</td>\n",
       "      <td>Wife</td>\n",
       "      <td>White</td>\n",
       "      <td>Female</td>\n",
       "      <td>United-States</td>\n",
       "      <td>9</td>\n",
       "      <td>1.0</td>\n",
       "    </tr>\n",
       "  </tbody>\n",
       "</table>\n",
       "<p>32537 rows × 10 columns</p>\n",
       "</div>"
      ],
      "text/plain": [
       "               workclass    education       marital-status  \\\n",
       "0              State-gov    Bachelors        Never-married   \n",
       "1       Self-emp-not-inc    Bachelors   Married-civ-spouse   \n",
       "2                Private      HS-grad             Divorced   \n",
       "3                Private         11th   Married-civ-spouse   \n",
       "4                Private    Bachelors   Married-civ-spouse   \n",
       "...                  ...          ...                  ...   \n",
       "32556            Private   Assoc-acdm   Married-civ-spouse   \n",
       "32557            Private      HS-grad   Married-civ-spouse   \n",
       "32558            Private      HS-grad              Widowed   \n",
       "32559            Private      HS-grad        Never-married   \n",
       "32560       Self-emp-inc      HS-grad   Married-civ-spouse   \n",
       "\n",
       "               occupation    relationship    race      sex  native-country  \\\n",
       "0            Adm-clerical   Not-in-family   White     Male   United-States   \n",
       "1         Exec-managerial         Husband   White     Male   United-States   \n",
       "2       Handlers-cleaners   Not-in-family   White     Male   United-States   \n",
       "3       Handlers-cleaners         Husband   Black     Male   United-States   \n",
       "4          Prof-specialty            Wife   Black   Female            Cuba   \n",
       "...                   ...             ...     ...      ...             ...   \n",
       "32556        Tech-support            Wife   White   Female   United-States   \n",
       "32557   Machine-op-inspct         Husband   White     Male   United-States   \n",
       "32558        Adm-clerical       Unmarried   White   Female   United-States   \n",
       "32559        Adm-clerical       Own-child   White     Male   United-States   \n",
       "32560     Exec-managerial            Wife   White   Female   United-States   \n",
       "\n",
       "        education-num   income  \n",
       "0                  13      0.0  \n",
       "1                  13      0.0  \n",
       "2                   9      0.0  \n",
       "3                   7      0.0  \n",
       "4                  13      0.0  \n",
       "...               ...      ...  \n",
       "32556              12      0.0  \n",
       "32557               9      1.0  \n",
       "32558               9      0.0  \n",
       "32559               9      0.0  \n",
       "32560               9      1.0  \n",
       "\n",
       "[32537 rows x 10 columns]"
      ]
     },
     "execution_count": 17,
     "metadata": {},
     "output_type": "execute_result"
    }
   ],
   "source": [
    "data_"
   ]
  },
  {
   "cell_type": "code",
   "execution_count": 18,
   "metadata": {
    "id": "rilZc2z_C4wj"
   },
   "outputs": [],
   "source": [
    "col = data_.columns[:-1]"
   ]
  },
  {
   "cell_type": "code",
   "execution_count": 19,
   "metadata": {
    "colab": {
     "base_uri": "https://localhost:8080/",
     "height": 414
    },
    "id": "gc0jhp1BC3Kw",
    "outputId": "5b5b46a8-c890-45f9-d5f6-a6d2a889351e"
   },
   "outputs": [
    {
     "data": {
      "image/png": "[encoded data removed]",
      "text/plain": [
       "<Figure size 1800x1800 with 8 Axes>"
      ]
     },
     "metadata": {
      "needs_background": "light"
     },
     "output_type": "display_data"
    }
   ],
   "source": [
    "plt.figure(figsize = (25, 25))\n",
    "for i in range(1, len(col)):\n",
    "    plt.subplot(3, 4, i)\n",
    "    sns.countplot(x = data[col[i]], hue = data[' income'])"
   ]
  },
  {
   "cell_type": "code",
   "execution_count": 24,
   "metadata": {
    "colab": {
     "base_uri": "https://localhost:8080/",
     "height": 1000
    },
    "id": "U5w2oadpneFU",
    "outputId": "357c038c-8393-4e0e-f872-874e799aa105"
   },
   "outputs": [
    {
     "data": {
      "image/png": "[encoded data removed]",
      "text/plain": [
       "<Figure size 360x360 with 1 Axes>"
      ]
     },
     "metadata": {
      "needs_background": "light"
     },
     "output_type": "display_data"
    },
    {
     "data": {
      "image/png": "[encoded data removed]",
      "text/plain": [
       "<Figure size 360x360 with 1 Axes>"
      ]
     },
     "metadata": {
      "needs_background": "light"
     },
     "output_type": "display_data"
    },
    {
     "data": {
      "image/png": "[encoded data removed]",
      "text/plain": [
       "<Figure size 360x360 with 1 Axes>"
      ]
     },
     "metadata": {
      "needs_background": "light"
     },
     "output_type": "display_data"
    },
    {
     "data": {
      "image/png": "[encoded data removed]",
      "text/plain": [
       "<Figure size 360x360 with 1 Axes>"
      ]
     },
     "metadata": {
      "needs_background": "light"
     },
     "output_type": "display_data"
    },
    {
     "data": {
      "image/png": "[encoded data removed]",
      "text/plain": [
       "<Figure size 360x360 with 1 Axes>"
      ]
     },
     "metadata": {
      "needs_background": "light"
     },
     "output_type": "display_data"
    },
    {
     "data": {
      "image/png": "[encoded data removed]",
      "text/plain": [
       "<Figure size 360x360 with 1 Axes>"
      ]
     },
     "metadata": {
      "needs_background": "light"
     },
     "output_type": "display_data"
    },
    {
     "data": {
      "image/png": "[encoded data removed]",
      "text/plain": [
       "<Figure size 360x360 with 1 Axes>"
      ]
     },
     "metadata": {
      "needs_background": "light"
     },
     "output_type": "display_data"
    },
    {
     "data": {
      "image/png": "[encoded data removed]",
      "text/plain": [
       "<Figure size 360x360 with 1 Axes>"
      ]
     },
     "metadata": {
      "needs_background": "light"
     },
     "output_type": "display_data"
    },
    {
     "data": {
      "image/png": "[encoded data removed]",
      "text/plain": [
       "<Figure size 360x360 with 1 Axes>"
      ]
     },
     "metadata": {
      "needs_background": "light"
     },
     "output_type": "display_data"
    }
   ],
   "source": [
    "import seaborn as sns\n",
    "for c in data_.columns[:-1]:\n",
    "  sns.catplot(x = c , y = \" income\" , kind='bar', data = data)"
   ]
  },
  {
   "cell_type": "code",
   "execution_count": 21,
   "metadata": {
    "id": "Vao9zJxgoUlT"
   },
   "outputs": [],
   "source": [
    "# по графикам получили, что:\n",
    "# education, marital-status, race, native-country, occupation  не влияют на целевую перменную,\n",
    "# поскольку все столбцы обладают практически одинаковой высотой"
   ]
  },
  {
   "cell_type": "markdown",
   "metadata": {
    "id": "hvl2xdULqQsm"
   },
   "source": [
    "Количественные параметры датасета."
   ]
  },
  {
   "cell_type": "code",
   "execution_count": 25,
   "metadata": {
    "colab": {
     "base_uri": "https://localhost:8080/",
     "height": 424
    },
    "id": "sgdlAxyfySjO",
    "outputId": "c3b16e77-eedf-412e-b823-738a2a8beba5"
   },
   "outputs": [
    {
     "data": {
      "text/html": [
       "<div>\n",
       "<style scoped>\n",
       "    .dataframe tbody tr th:only-of-type {\n",
       "        vertical-align: middle;\n",
       "    }\n",
       "\n",
       "    .dataframe tbody tr th {\n",
       "        vertical-align: top;\n",
       "    }\n",
       "\n",
       "    .dataframe thead th {\n",
       "        text-align: right;\n",
       "    }\n",
       "</style>\n",
       "<table border=\"1\" class=\"dataframe\">\n",
       "  <thead>\n",
       "    <tr style=\"text-align: right;\">\n",
       "      <th></th>\n",
       "      <th>income</th>\n",
       "      <th>age</th>\n",
       "      <th>fnlwgt</th>\n",
       "      <th>capital-gain</th>\n",
       "      <th>capital-loss</th>\n",
       "      <th>hours-per-week</th>\n",
       "    </tr>\n",
       "  </thead>\n",
       "  <tbody>\n",
       "    <tr>\n",
       "      <th>0</th>\n",
       "      <td>0.0</td>\n",
       "      <td>39</td>\n",
       "      <td>77516</td>\n",
       "      <td>2174</td>\n",
       "      <td>0</td>\n",
       "      <td>40</td>\n",
       "    </tr>\n",
       "    <tr>\n",
       "      <th>1</th>\n",
       "      <td>0.0</td>\n",
       "      <td>50</td>\n",
       "      <td>83311</td>\n",
       "      <td>0</td>\n",
       "      <td>0</td>\n",
       "      <td>13</td>\n",
       "    </tr>\n",
       "    <tr>\n",
       "      <th>2</th>\n",
       "      <td>0.0</td>\n",
       "      <td>38</td>\n",
       "      <td>215646</td>\n",
       "      <td>0</td>\n",
       "      <td>0</td>\n",
       "      <td>40</td>\n",
       "    </tr>\n",
       "    <tr>\n",
       "      <th>3</th>\n",
       "      <td>0.0</td>\n",
       "      <td>53</td>\n",
       "      <td>234721</td>\n",
       "      <td>0</td>\n",
       "      <td>0</td>\n",
       "      <td>40</td>\n",
       "    </tr>\n",
       "    <tr>\n",
       "      <th>4</th>\n",
       "      <td>0.0</td>\n",
       "      <td>28</td>\n",
       "      <td>338409</td>\n",
       "      <td>0</td>\n",
       "      <td>0</td>\n",
       "      <td>40</td>\n",
       "    </tr>\n",
       "    <tr>\n",
       "      <th>...</th>\n",
       "      <td>...</td>\n",
       "      <td>...</td>\n",
       "      <td>...</td>\n",
       "      <td>...</td>\n",
       "      <td>...</td>\n",
       "      <td>...</td>\n",
       "    </tr>\n",
       "    <tr>\n",
       "      <th>32556</th>\n",
       "      <td>0.0</td>\n",
       "      <td>27</td>\n",
       "      <td>257302</td>\n",
       "      <td>0</td>\n",
       "      <td>0</td>\n",
       "      <td>38</td>\n",
       "    </tr>\n",
       "    <tr>\n",
       "      <th>32557</th>\n",
       "      <td>1.0</td>\n",
       "      <td>40</td>\n",
       "      <td>154374</td>\n",
       "      <td>0</td>\n",
       "      <td>0</td>\n",
       "      <td>40</td>\n",
       "    </tr>\n",
       "    <tr>\n",
       "      <th>32558</th>\n",
       "      <td>0.0</td>\n",
       "      <td>58</td>\n",
       "      <td>151910</td>\n",
       "      <td>0</td>\n",
       "      <td>0</td>\n",
       "      <td>40</td>\n",
       "    </tr>\n",
       "    <tr>\n",
       "      <th>32559</th>\n",
       "      <td>0.0</td>\n",
       "      <td>22</td>\n",
       "      <td>201490</td>\n",
       "      <td>0</td>\n",
       "      <td>0</td>\n",
       "      <td>20</td>\n",
       "    </tr>\n",
       "    <tr>\n",
       "      <th>32560</th>\n",
       "      <td>1.0</td>\n",
       "      <td>52</td>\n",
       "      <td>287927</td>\n",
       "      <td>15024</td>\n",
       "      <td>0</td>\n",
       "      <td>40</td>\n",
       "    </tr>\n",
       "  </tbody>\n",
       "</table>\n",
       "<p>32537 rows × 6 columns</p>\n",
       "</div>"
      ],
      "text/plain": [
       "        income  age   fnlwgt   capital-gain   capital-loss   hours-per-week\n",
       "0          0.0   39    77516           2174              0               40\n",
       "1          0.0   50    83311              0              0               13\n",
       "2          0.0   38   215646              0              0               40\n",
       "3          0.0   53   234721              0              0               40\n",
       "4          0.0   28   338409              0              0               40\n",
       "...        ...  ...      ...            ...            ...              ...\n",
       "32556      0.0   27   257302              0              0               38\n",
       "32557      1.0   40   154374              0              0               40\n",
       "32558      0.0   58   151910              0              0               40\n",
       "32559      0.0   22   201490              0              0               20\n",
       "32560      1.0   52   287927          15024              0               40\n",
       "\n",
       "[32537 rows x 6 columns]"
      ]
     },
     "execution_count": 25,
     "metadata": {},
     "output_type": "execute_result"
    }
   ],
   "source": [
    "data_col=data[[' income','age',' fnlwgt',' capital-gain',' capital-loss',' hours-per-week']]\n",
    "data_col"
   ]
  },
  {
   "cell_type": "code",
   "execution_count": 26,
   "metadata": {
    "colab": {
     "base_uri": "https://localhost:8080/",
     "height": 474
    },
    "id": "mcFH2UlPEONc",
    "outputId": "3f6f98bb-25c7-4650-b70a-1d07604e62b0"
   },
   "outputs": [
    {
     "data": {
      "image/png": "[encoded data removed]",
      "text/plain": [
       "<Figure size 1440x1080 with 5 Axes>"
      ]
     },
     "metadata": {
      "needs_background": "light"
     },
     "output_type": "display_data"
    }
   ],
   "source": [
    "col=['age',' capital-gain',' capital-loss',' hours-per-week', ' fnlwgt']\n",
    "plt.figure(figsize = (20, 15))\n",
    "for i in range(1, len(col)+1):\n",
    "    plt.subplot(3, 2, i)\n",
    "    sns.histplot(data=data, x=col[i-1], hue=\" income\",bins=15)"
   ]
  },
  {
   "cell_type": "code",
   "execution_count": 27,
   "metadata": {
    "colab": {
     "base_uri": "https://localhost:8080/",
     "height": 478
    },
    "id": "U9xQtVZhDyoq",
    "outputId": "b07e17be-f971-46f1-f165-e597ab788f78"
   },
   "outputs": [
    {
     "data": {
      "image/png": "[encoded data removed]",
      "text/plain": [
       "<Figure size 1440x1080 with 5 Axes>"
      ]
     },
     "metadata": {
      "needs_background": "light"
     },
     "output_type": "display_data"
    }
   ],
   "source": [
    "col=['age',' fnlwgt',' capital-gain',' capital-loss',' hours-per-week']\n",
    "plt.figure(figsize = (20, 15))\n",
    "for i in range(1, len(col)+1):\n",
    "    plt.subplot(3, 2, i)\n",
    "    sns.boxplot(x = ' income', y = col[i-1], data = data)"
   ]
  },
  {
   "cell_type": "code",
   "execution_count": 28,
   "metadata": {
    "id": "AJaBUL5b42Fs"
   },
   "outputs": [],
   "source": [
    "# по графикам получили, что:\n",
    "# доход выше у людей, которые старше\n",
    "# доход выше у людей, которые имеют более высокое образование\n",
    "# фактор fnlwgt (количество людей с такими же признаками) не влияет на доход, исключим его из модел\n",
    "и\n",
    "# доход выше у людей, которые работают больше 40 часов в неделю\n"
   ]
  },
  {
   "cell_type": "code",
   "execution_count": 63,
   "metadata": {
    "colab": {
     "base_uri": "https://localhost:8080/",
     "height": 522
    },
    "id": "ZPYfyioLblBI",
    "outputId": "5f67c887-150f-40a0-fb5f-d9847840d5fa"
   },
   "outputs": [
    {
     "data": {
      "text/html": [
       "<div>\n",
       "<style scoped>\n",
       "    .dataframe tbody tr th:only-of-type {\n",
       "        vertical-align: middle;\n",
       "    }\n",
       "\n",
       "    .dataframe tbody tr th {\n",
       "        vertical-align: top;\n",
       "    }\n",
       "\n",
       "    .dataframe thead th {\n",
       "        text-align: right;\n",
       "    }\n",
       "</style>\n",
       "<table border=\"1\" class=\"dataframe\">\n",
       "  <thead>\n",
       "    <tr style=\"text-align: right;\">\n",
       "      <th></th>\n",
       "      <th>age</th>\n",
       "      <th>workclass</th>\n",
       "      <th>education-num</th>\n",
       "      <th>relationship</th>\n",
       "      <th>sex</th>\n",
       "      <th>capital-gain</th>\n",
       "      <th>capital-loss</th>\n",
       "      <th>hours-per-week</th>\n",
       "      <th>income</th>\n",
       "    </tr>\n",
       "  </thead>\n",
       "  <tbody>\n",
       "    <tr>\n",
       "      <th>0</th>\n",
       "      <td>39</td>\n",
       "      <td>7.0</td>\n",
       "      <td>13</td>\n",
       "      <td>1.0</td>\n",
       "      <td>1.0</td>\n",
       "      <td>2174</td>\n",
       "      <td>0</td>\n",
       "      <td>40</td>\n",
       "      <td>0.0</td>\n",
       "    </tr>\n",
       "    <tr>\n",
       "      <th>1</th>\n",
       "      <td>50</td>\n",
       "      <td>6.0</td>\n",
       "      <td>13</td>\n",
       "      <td>0.0</td>\n",
       "      <td>1.0</td>\n",
       "      <td>0</td>\n",
       "      <td>0</td>\n",
       "      <td>13</td>\n",
       "      <td>0.0</td>\n",
       "    </tr>\n",
       "    <tr>\n",
       "      <th>2</th>\n",
       "      <td>38</td>\n",
       "      <td>4.0</td>\n",
       "      <td>9</td>\n",
       "      <td>1.0</td>\n",
       "      <td>1.0</td>\n",
       "      <td>0</td>\n",
       "      <td>0</td>\n",
       "      <td>40</td>\n",
       "      <td>0.0</td>\n",
       "    </tr>\n",
       "    <tr>\n",
       "      <th>3</th>\n",
       "      <td>53</td>\n",
       "      <td>4.0</td>\n",
       "      <td>7</td>\n",
       "      <td>0.0</td>\n",
       "      <td>1.0</td>\n",
       "      <td>0</td>\n",
       "      <td>0</td>\n",
       "      <td>40</td>\n",
       "      <td>0.0</td>\n",
       "    </tr>\n",
       "    <tr>\n",
       "      <th>4</th>\n",
       "      <td>28</td>\n",
       "      <td>4.0</td>\n",
       "      <td>13</td>\n",
       "      <td>5.0</td>\n",
       "      <td>0.0</td>\n",
       "      <td>0</td>\n",
       "      <td>0</td>\n",
       "      <td>40</td>\n",
       "      <td>0.0</td>\n",
       "    </tr>\n",
       "    <tr>\n",
       "      <th>...</th>\n",
       "      <td>...</td>\n",
       "      <td>...</td>\n",
       "      <td>...</td>\n",
       "      <td>...</td>\n",
       "      <td>...</td>\n",
       "      <td>...</td>\n",
       "      <td>...</td>\n",
       "      <td>...</td>\n",
       "      <td>...</td>\n",
       "    </tr>\n",
       "    <tr>\n",
       "      <th>32556</th>\n",
       "      <td>27</td>\n",
       "      <td>4.0</td>\n",
       "      <td>12</td>\n",
       "      <td>5.0</td>\n",
       "      <td>0.0</td>\n",
       "      <td>0</td>\n",
       "      <td>0</td>\n",
       "      <td>38</td>\n",
       "      <td>0.0</td>\n",
       "    </tr>\n",
       "    <tr>\n",
       "      <th>32557</th>\n",
       "      <td>40</td>\n",
       "      <td>4.0</td>\n",
       "      <td>9</td>\n",
       "      <td>0.0</td>\n",
       "      <td>1.0</td>\n",
       "      <td>0</td>\n",
       "      <td>0</td>\n",
       "      <td>40</td>\n",
       "      <td>1.0</td>\n",
       "    </tr>\n",
       "    <tr>\n",
       "      <th>32558</th>\n",
       "      <td>58</td>\n",
       "      <td>4.0</td>\n",
       "      <td>9</td>\n",
       "      <td>4.0</td>\n",
       "      <td>0.0</td>\n",
       "      <td>0</td>\n",
       "      <td>0</td>\n",
       "      <td>40</td>\n",
       "      <td>0.0</td>\n",
       "    </tr>\n",
       "    <tr>\n",
       "      <th>32559</th>\n",
       "      <td>22</td>\n",
       "      <td>4.0</td>\n",
       "      <td>9</td>\n",
       "      <td>3.0</td>\n",
       "      <td>1.0</td>\n",
       "      <td>0</td>\n",
       "      <td>0</td>\n",
       "      <td>20</td>\n",
       "      <td>0.0</td>\n",
       "    </tr>\n",
       "    <tr>\n",
       "      <th>32560</th>\n",
       "      <td>52</td>\n",
       "      <td>5.0</td>\n",
       "      <td>9</td>\n",
       "      <td>5.0</td>\n",
       "      <td>0.0</td>\n",
       "      <td>15024</td>\n",
       "      <td>0</td>\n",
       "      <td>40</td>\n",
       "      <td>1.0</td>\n",
       "    </tr>\n",
       "  </tbody>\n",
       "</table>\n",
       "<p>32537 rows × 9 columns</p>\n",
       "</div>"
      ],
      "text/plain": [
       "       age   workclass   education-num   relationship   sex   capital-gain  \\\n",
       "0       39         7.0              13            1.0   1.0           2174   \n",
       "1       50         6.0              13            0.0   1.0              0   \n",
       "2       38         4.0               9            1.0   1.0              0   \n",
       "3       53         4.0               7            0.0   1.0              0   \n",
       "4       28         4.0              13            5.0   0.0              0   \n",
       "...    ...         ...             ...            ...   ...            ...   \n",
       "32556   27         4.0              12            5.0   0.0              0   \n",
       "32557   40         4.0               9            0.0   1.0              0   \n",
       "32558   58         4.0               9            4.0   0.0              0   \n",
       "32559   22         4.0               9            3.0   1.0              0   \n",
       "32560   52         5.0               9            5.0   0.0          15024   \n",
       "\n",
       "        capital-loss   hours-per-week   income  \n",
       "0                  0               40      0.0  \n",
       "1                  0               13      0.0  \n",
       "2                  0               40      0.0  \n",
       "3                  0               40      0.0  \n",
       "4                  0               40      0.0  \n",
       "...              ...              ...      ...  \n",
       "32556              0               38      0.0  \n",
       "32557              0               40      1.0  \n",
       "32558              0               40      0.0  \n",
       "32559              0               20      0.0  \n",
       "32560              0               40      1.0  \n",
       "\n",
       "[32537 rows x 9 columns]"
      ]
     },
     "execution_count": 63,
     "metadata": {},
     "output_type": "execute_result"
    }
   ],
   "source": [
    "# удаление лишних входных данных\n",
    "data=data.drop([' education',' marital-status',' race',' native-country', ' fnlwgt',' occupation'],axis=1)\n",
    "data"
   ]
  },
  {
   "cell_type": "code",
   "execution_count": 64,
   "metadata": {},
   "outputs": [],
   "source": [
    "# удалим дубликаты в данных\n",
    "data=data.drop_duplicates()"
   ]
  },
  {
   "cell_type": "code",
   "execution_count": 66,
   "metadata": {
    "id": "qjnLBJModKTb"
   },
   "outputs": [],
   "source": [
    "# нормализация данных\n",
    "data[['age',' capital-gain',' capital-loss',' hours-per-week']]=data[['age',' capital-gain',' capital-loss',' hours-per-week']].apply(lambda x: (x-x.min())/(x.max()-x.min()))"
   ]
  },
  {
   "cell_type": "code",
   "execution_count": 67,
   "metadata": {
    "colab": {
     "base_uri": "https://localhost:8080/",
     "height": 522
    },
    "id": "f-TP0ekLg3sv",
    "outputId": "c184504c-4f1a-48d0-fafe-875d57bb2715"
   },
   "outputs": [
    {
     "data": {
      "text/html": [
       "<div>\n",
       "<style scoped>\n",
       "    .dataframe tbody tr th:only-of-type {\n",
       "        vertical-align: middle;\n",
       "    }\n",
       "\n",
       "    .dataframe tbody tr th {\n",
       "        vertical-align: top;\n",
       "    }\n",
       "\n",
       "    .dataframe thead th {\n",
       "        text-align: right;\n",
       "    }\n",
       "</style>\n",
       "<table border=\"1\" class=\"dataframe\">\n",
       "  <thead>\n",
       "    <tr style=\"text-align: right;\">\n",
       "      <th></th>\n",
       "      <th>age</th>\n",
       "      <th>workclass</th>\n",
       "      <th>education-num</th>\n",
       "      <th>relationship</th>\n",
       "      <th>sex</th>\n",
       "      <th>capital-gain</th>\n",
       "      <th>capital-loss</th>\n",
       "      <th>hours-per-week</th>\n",
       "      <th>income</th>\n",
       "    </tr>\n",
       "  </thead>\n",
       "  <tbody>\n",
       "    <tr>\n",
       "      <th>0</th>\n",
       "      <td>0.301370</td>\n",
       "      <td>7.0</td>\n",
       "      <td>13</td>\n",
       "      <td>1.0</td>\n",
       "      <td>1.0</td>\n",
       "      <td>0.021740</td>\n",
       "      <td>0.0</td>\n",
       "      <td>0.397959</td>\n",
       "      <td>0.0</td>\n",
       "    </tr>\n",
       "    <tr>\n",
       "      <th>1</th>\n",
       "      <td>0.452055</td>\n",
       "      <td>6.0</td>\n",
       "      <td>13</td>\n",
       "      <td>0.0</td>\n",
       "      <td>1.0</td>\n",
       "      <td>0.000000</td>\n",
       "      <td>0.0</td>\n",
       "      <td>0.122449</td>\n",
       "      <td>0.0</td>\n",
       "    </tr>\n",
       "    <tr>\n",
       "      <th>2</th>\n",
       "      <td>0.287671</td>\n",
       "      <td>4.0</td>\n",
       "      <td>9</td>\n",
       "      <td>1.0</td>\n",
       "      <td>1.0</td>\n",
       "      <td>0.000000</td>\n",
       "      <td>0.0</td>\n",
       "      <td>0.397959</td>\n",
       "      <td>0.0</td>\n",
       "    </tr>\n",
       "    <tr>\n",
       "      <th>3</th>\n",
       "      <td>0.493151</td>\n",
       "      <td>4.0</td>\n",
       "      <td>7</td>\n",
       "      <td>0.0</td>\n",
       "      <td>1.0</td>\n",
       "      <td>0.000000</td>\n",
       "      <td>0.0</td>\n",
       "      <td>0.397959</td>\n",
       "      <td>0.0</td>\n",
       "    </tr>\n",
       "    <tr>\n",
       "      <th>4</th>\n",
       "      <td>0.150685</td>\n",
       "      <td>4.0</td>\n",
       "      <td>13</td>\n",
       "      <td>5.0</td>\n",
       "      <td>0.0</td>\n",
       "      <td>0.000000</td>\n",
       "      <td>0.0</td>\n",
       "      <td>0.397959</td>\n",
       "      <td>0.0</td>\n",
       "    </tr>\n",
       "    <tr>\n",
       "      <th>...</th>\n",
       "      <td>...</td>\n",
       "      <td>...</td>\n",
       "      <td>...</td>\n",
       "      <td>...</td>\n",
       "      <td>...</td>\n",
       "      <td>...</td>\n",
       "      <td>...</td>\n",
       "      <td>...</td>\n",
       "      <td>...</td>\n",
       "    </tr>\n",
       "    <tr>\n",
       "      <th>32549</th>\n",
       "      <td>0.356164</td>\n",
       "      <td>7.0</td>\n",
       "      <td>10</td>\n",
       "      <td>2.0</td>\n",
       "      <td>0.0</td>\n",
       "      <td>0.000000</td>\n",
       "      <td>0.0</td>\n",
       "      <td>0.397959</td>\n",
       "      <td>0.0</td>\n",
       "    </tr>\n",
       "    <tr>\n",
       "      <th>32552</th>\n",
       "      <td>0.356164</td>\n",
       "      <td>4.0</td>\n",
       "      <td>11</td>\n",
       "      <td>0.0</td>\n",
       "      <td>1.0</td>\n",
       "      <td>0.000000</td>\n",
       "      <td>0.0</td>\n",
       "      <td>0.448980</td>\n",
       "      <td>0.0</td>\n",
       "    </tr>\n",
       "    <tr>\n",
       "      <th>32553</th>\n",
       "      <td>0.205479</td>\n",
       "      <td>4.0</td>\n",
       "      <td>14</td>\n",
       "      <td>1.0</td>\n",
       "      <td>1.0</td>\n",
       "      <td>0.000000</td>\n",
       "      <td>0.0</td>\n",
       "      <td>0.102041</td>\n",
       "      <td>0.0</td>\n",
       "    </tr>\n",
       "    <tr>\n",
       "      <th>32556</th>\n",
       "      <td>0.136986</td>\n",
       "      <td>4.0</td>\n",
       "      <td>12</td>\n",
       "      <td>5.0</td>\n",
       "      <td>0.0</td>\n",
       "      <td>0.000000</td>\n",
       "      <td>0.0</td>\n",
       "      <td>0.377551</td>\n",
       "      <td>0.0</td>\n",
       "    </tr>\n",
       "    <tr>\n",
       "      <th>32560</th>\n",
       "      <td>0.479452</td>\n",
       "      <td>5.0</td>\n",
       "      <td>9</td>\n",
       "      <td>5.0</td>\n",
       "      <td>0.0</td>\n",
       "      <td>0.150242</td>\n",
       "      <td>0.0</td>\n",
       "      <td>0.397959</td>\n",
       "      <td>1.0</td>\n",
       "    </tr>\n",
       "  </tbody>\n",
       "</table>\n",
       "<p>21576 rows × 9 columns</p>\n",
       "</div>"
      ],
      "text/plain": [
       "            age   workclass   education-num   relationship   sex  \\\n",
       "0      0.301370         7.0              13            1.0   1.0   \n",
       "1      0.452055         6.0              13            0.0   1.0   \n",
       "2      0.287671         4.0               9            1.0   1.0   \n",
       "3      0.493151         4.0               7            0.0   1.0   \n",
       "4      0.150685         4.0              13            5.0   0.0   \n",
       "...         ...         ...             ...            ...   ...   \n",
       "32549  0.356164         7.0              10            2.0   0.0   \n",
       "32552  0.356164         4.0              11            0.0   1.0   \n",
       "32553  0.205479         4.0              14            1.0   1.0   \n",
       "32556  0.136986         4.0              12            5.0   0.0   \n",
       "32560  0.479452         5.0               9            5.0   0.0   \n",
       "\n",
       "        capital-gain   capital-loss   hours-per-week   income  \n",
       "0           0.021740            0.0         0.397959      0.0  \n",
       "1           0.000000            0.0         0.122449      0.0  \n",
       "2           0.000000            0.0         0.397959      0.0  \n",
       "3           0.000000            0.0         0.397959      0.0  \n",
       "4           0.000000            0.0         0.397959      0.0  \n",
       "...              ...            ...              ...      ...  \n",
       "32549       0.000000            0.0         0.397959      0.0  \n",
       "32552       0.000000            0.0         0.448980      0.0  \n",
       "32553       0.000000            0.0         0.102041      0.0  \n",
       "32556       0.000000            0.0         0.377551      0.0  \n",
       "32560       0.150242            0.0         0.397959      1.0  \n",
       "\n",
       "[21576 rows x 9 columns]"
      ]
     },
     "execution_count": 67,
     "metadata": {},
     "output_type": "execute_result"
    }
   ],
   "source": [
    "data"
   ]
  },
  {
   "cell_type": "markdown",
   "metadata": {
    "id": "LRO_2WopqEd6"
   },
   "source": [
    "Выделим целевую переменную и факторные переменные."
   ]
  },
  {
   "cell_type": "code",
   "execution_count": 68,
   "metadata": {
    "id": "EGNXnVZ7qIDW"
   },
   "outputs": [],
   "source": [
    "y = data[' income']\n",
    "X = data.drop(columns=[' income']) "
   ]
  },
  {
   "cell_type": "markdown",
   "metadata": {
    "id": "BC85_3RbqTDj"
   },
   "source": [
    "Разбьем выборку на обучающую и тестовую"
   ]
  },
  {
   "cell_type": "code",
   "execution_count": 69,
   "metadata": {
    "id": "F7GTXwpoqYaU"
   },
   "outputs": [],
   "source": [
    "from sklearn.model_selection import train_test_split\n",
    "X_train, X_test, y_train, y_test = train_test_split(X, y, test_size= 0.2, random_state=42, shuffle = True)"
   ]
  },
  {
   "cell_type": "markdown",
   "metadata": {
    "id": "W6NzoLdR9u-W"
   },
   "source": [
    "### Модель № 1 (логистическая регрессия)"
   ]
  },
  {
   "cell_type": "code",
   "execution_count": 70,
   "metadata": {
    "id": "ZCiwMjDy2UWp"
   },
   "outputs": [],
   "source": [
    "log = LogisticRegression(max_iter=5000)"
   ]
  },
  {
   "cell_type": "code",
   "execution_count": 71,
   "metadata": {
    "id": "rbJiYCm-3Wl-"
   },
   "outputs": [],
   "source": [
    "s = time.time()\n",
    "log.fit(X_train, y_train)\n",
    "time_learn = time.time()-s"
   ]
  },
  {
   "cell_type": "code",
   "execution_count": 72,
   "metadata": {
    "colab": {
     "base_uri": "https://localhost:8080/"
    },
    "id": "MC3cVWP52UYx",
    "outputId": "8a69f3b2-a97b-4843-c413-2146326a0daa"
   },
   "outputs": [
    {
     "name": "stdout",
     "output_type": "stream",
     "text": [
      "roc-auc: 0.8322836064577199\n",
      "accuracy: 0.8097775718257646\n",
      "precision: 0.7355704697986577\n",
      "recall: 0.46757679180887374\n",
      "f1: 0.5717266562336986\n",
      "cross_val_f1: 0.5611432173897549\n"
     ]
    }
   ],
   "source": [
    "y_pred = log.predict(X_test)\n",
    "y_score = log.predict_proba(X_test)[:,1]\n",
    "f_score = make_scorer(f1_score)\n",
    "cross_val = cross_val_score(log,  X, y,  cv = 5, scoring=f_score).mean()\n",
    "\n",
    "print('roc-auc:', roc_auc_score(y_test, y_score))\n",
    "print('accuracy:', accuracy_score(y_test, y_pred))\n",
    "print('precision:', precision_score(y_test, y_pred))\n",
    "print('recall:', recall_score(y_test, y_pred))\n",
    "print('f1:', f1_score(y_test, y_pred))\n",
    "print('cross_val_f1:', cross_val)"
   ]
  },
  {
   "cell_type": "code",
   "execution_count": 73,
   "metadata": {
    "id": "ZbF9LXb90bW7"
   },
   "outputs": [],
   "source": [
    "table = pd.DataFrame(index=['roc-auc', 'accuracy','precision', 'recall', 'f1','cross_val_f1','time'])\n",
    "table['LogisticRegression'] = [roc_auc_score(y_test, y_score), accuracy_score(y_test, y_pred), \n",
    "                               precision_score(y_test, y_pred), recall_score(y_test, y_pred), \n",
    "                               f1_score(y_test, y_pred), cross_val, time_learn]"
   ]
  },
  {
   "cell_type": "code",
   "execution_count": 74,
   "metadata": {
    "colab": {
     "base_uri": "https://localhost:8080/",
     "height": 269
    },
    "id": "5oEseMso4sAU",
    "outputId": "edf3e9ab-0d7d-4db3-ac0d-97d5c5cbaa89"
   },
   "outputs": [
    {
     "data": {
      "text/html": [
       "<div>\n",
       "<style scoped>\n",
       "    .dataframe tbody tr th:only-of-type {\n",
       "        vertical-align: middle;\n",
       "    }\n",
       "\n",
       "    .dataframe tbody tr th {\n",
       "        vertical-align: top;\n",
       "    }\n",
       "\n",
       "    .dataframe thead th {\n",
       "        text-align: right;\n",
       "    }\n",
       "</style>\n",
       "<table border=\"1\" class=\"dataframe\">\n",
       "  <thead>\n",
       "    <tr style=\"text-align: right;\">\n",
       "      <th></th>\n",
       "      <th>LogisticRegression</th>\n",
       "    </tr>\n",
       "  </thead>\n",
       "  <tbody>\n",
       "    <tr>\n",
       "      <th>roc-auc</th>\n",
       "      <td>0.832284</td>\n",
       "    </tr>\n",
       "    <tr>\n",
       "      <th>accuracy</th>\n",
       "      <td>0.809778</td>\n",
       "    </tr>\n",
       "    <tr>\n",
       "      <th>precision</th>\n",
       "      <td>0.735570</td>\n",
       "    </tr>\n",
       "    <tr>\n",
       "      <th>recall</th>\n",
       "      <td>0.467577</td>\n",
       "    </tr>\n",
       "    <tr>\n",
       "      <th>f1</th>\n",
       "      <td>0.571727</td>\n",
       "    </tr>\n",
       "    <tr>\n",
       "      <th>cross_val_f1</th>\n",
       "      <td>0.561143</td>\n",
       "    </tr>\n",
       "    <tr>\n",
       "      <th>time</th>\n",
       "      <td>0.128487</td>\n",
       "    </tr>\n",
       "  </tbody>\n",
       "</table>\n",
       "</div>"
      ],
      "text/plain": [
       "              LogisticRegression\n",
       "roc-auc                 0.832284\n",
       "accuracy                0.809778\n",
       "precision               0.735570\n",
       "recall                  0.467577\n",
       "f1                      0.571727\n",
       "cross_val_f1            0.561143\n",
       "time                    0.128487"
      ]
     },
     "execution_count": 74,
     "metadata": {},
     "output_type": "execute_result"
    }
   ],
   "source": [
    "table"
   ]
  },
  {
   "cell_type": "markdown",
   "metadata": {
    "id": "BrYDWhrJ9cJP"
   },
   "source": [
    "### Модель № 2 (дерево решений)"
   ]
  },
  {
   "cell_type": "code",
   "execution_count": 75,
   "metadata": {
    "id": "J1w615i6qhpa"
   },
   "outputs": [],
   "source": [
    "clf = tree.DecisionTreeClassifier(criterion = 'gini')"
   ]
  },
  {
   "cell_type": "code",
   "execution_count": 76,
   "metadata": {
    "id": "V7SE3iti46G9"
   },
   "outputs": [],
   "source": [
    "s = time.time()\n",
    "clf.fit(X_train, y_train)\n",
    "time_learn = time.time()-s"
   ]
  },
  {
   "cell_type": "code",
   "execution_count": 77,
   "metadata": {
    "colab": {
     "base_uri": "https://localhost:8080/"
    },
    "id": "B-W_ljao2UUO",
    "outputId": "bb877c2a-8826-4be1-cf20-b06a98924599"
   },
   "outputs": [
    {
     "name": "stdout",
     "output_type": "stream",
     "text": [
      "roc-auc: 0.718231514168599\n",
      "accuracy: 0.7673772011121409\n",
      "precision: 0.5708263069139966\n",
      "recall: 0.5776450511945392\n",
      "f1: 0.5742154368108566\n",
      "cross_val_f1: 0.5854426792691425\n"
     ]
    }
   ],
   "source": [
    "y_pred = clf.predict(X_test)\n",
    "y_score = clf.predict_proba(X_test)[:,1]\n",
    "f_score = make_scorer(f1_score)\n",
    "cross_val=cross_val_score(clf,  X, y,  cv = 5, scoring=f_score).mean()\n",
    "\n",
    "print('roc-auc:', roc_auc_score(y_test, y_score))\n",
    "print('accuracy:', accuracy_score(y_test, y_pred))\n",
    "print('precision:', precision_score(y_test, y_pred))\n",
    "print('recall:', recall_score(y_test, y_pred))\n",
    "print('f1:', f1_score(y_test, y_pred))\n",
    "print('cross_val_f1:', cross_val)"
   ]
  },
  {
   "cell_type": "code",
   "execution_count": 78,
   "metadata": {
    "id": "c40kVHmf5qx3"
   },
   "outputs": [],
   "source": [
    "table['DecisionTree'] = [roc_auc_score(y_test, y_score), accuracy_score(y_test, y_pred), \n",
    "                        precision_score(y_test, y_pred), recall_score(y_test, y_pred), \n",
    "                         f1_score(y_test, y_pred), cross_val, time_learn]"
   ]
  },
  {
   "cell_type": "code",
   "execution_count": 79,
   "metadata": {
    "colab": {
     "base_uri": "https://localhost:8080/",
     "height": 269
    },
    "id": "j5-HugvC5nsy",
    "outputId": "a6b4e8de-b5fa-4f53-c0a1-0c0b3ade6ccd"
   },
   "outputs": [
    {
     "data": {
      "text/html": [
       "<div>\n",
       "<style scoped>\n",
       "    .dataframe tbody tr th:only-of-type {\n",
       "        vertical-align: middle;\n",
       "    }\n",
       "\n",
       "    .dataframe tbody tr th {\n",
       "        vertical-align: top;\n",
       "    }\n",
       "\n",
       "    .dataframe thead th {\n",
       "        text-align: right;\n",
       "    }\n",
       "</style>\n",
       "<table border=\"1\" class=\"dataframe\">\n",
       "  <thead>\n",
       "    <tr style=\"text-align: right;\">\n",
       "      <th></th>\n",
       "      <th>LogisticRegression</th>\n",
       "      <th>DecisionTree</th>\n",
       "    </tr>\n",
       "  </thead>\n",
       "  <tbody>\n",
       "    <tr>\n",
       "      <th>roc-auc</th>\n",
       "      <td>0.832284</td>\n",
       "      <td>0.718232</td>\n",
       "    </tr>\n",
       "    <tr>\n",
       "      <th>accuracy</th>\n",
       "      <td>0.809778</td>\n",
       "      <td>0.767377</td>\n",
       "    </tr>\n",
       "    <tr>\n",
       "      <th>precision</th>\n",
       "      <td>0.735570</td>\n",
       "      <td>0.570826</td>\n",
       "    </tr>\n",
       "    <tr>\n",
       "      <th>recall</th>\n",
       "      <td>0.467577</td>\n",
       "      <td>0.577645</td>\n",
       "    </tr>\n",
       "    <tr>\n",
       "      <th>f1</th>\n",
       "      <td>0.571727</td>\n",
       "      <td>0.574215</td>\n",
       "    </tr>\n",
       "    <tr>\n",
       "      <th>cross_val_f1</th>\n",
       "      <td>0.561143</td>\n",
       "      <td>0.585443</td>\n",
       "    </tr>\n",
       "    <tr>\n",
       "      <th>time</th>\n",
       "      <td>0.128487</td>\n",
       "      <td>0.041263</td>\n",
       "    </tr>\n",
       "  </tbody>\n",
       "</table>\n",
       "</div>"
      ],
      "text/plain": [
       "              LogisticRegression  DecisionTree\n",
       "roc-auc                 0.832284      0.718232\n",
       "accuracy                0.809778      0.767377\n",
       "precision               0.735570      0.570826\n",
       "recall                  0.467577      0.577645\n",
       "f1                      0.571727      0.574215\n",
       "cross_val_f1            0.561143      0.585443\n",
       "time                    0.128487      0.041263"
      ]
     },
     "execution_count": 79,
     "metadata": {},
     "output_type": "execute_result"
    }
   ],
   "source": [
    "table "
   ]
  },
  {
   "cell_type": "markdown",
   "metadata": {
    "id": "YQJvPvbU97j6"
   },
   "source": [
    "### Модель № 3 (случайный лес)"
   ]
  },
  {
   "cell_type": "code",
   "execution_count": 80,
   "metadata": {
    "id": "arzrOc0t2Ua8"
   },
   "outputs": [],
   "source": [
    "RF = RandomForestClassifier()"
   ]
  },
  {
   "cell_type": "code",
   "execution_count": 81,
   "metadata": {
    "id": "XtlLKHNc7Vh1"
   },
   "outputs": [],
   "source": [
    "s = time.time()\n",
    "RF.fit(X_train, y_train)\n",
    "time_learn = time.time()-s"
   ]
  },
  {
   "cell_type": "code",
   "execution_count": 82,
   "metadata": {
    "colab": {
     "base_uri": "https://localhost:8080/"
    },
    "id": "U3csfOjg9_CV",
    "outputId": "3526eda7-f797-4b7a-d7f0-7d48dfbac79f"
   },
   "outputs": [
    {
     "name": "stdout",
     "output_type": "stream",
     "text": [
      "roc-auc: 0.8587206847215347\n",
      "accuracy: 0.8018999073215941\n",
      "precision: 0.6468952734012975\n",
      "recall: 0.5955631399317406\n",
      "f1: 0.6201688138605064\n",
      "cross_val_f1: 0.619733769811731\n"
     ]
    }
   ],
   "source": [
    "y_pred = RF.predict(X_test)\n",
    "y_score = RF.predict_proba(X_test)[:,1]\n",
    "f_score = make_scorer(f1_score)\n",
    "cross_val=cross_val_score(RF,  X, y,  cv = 5, scoring=f_score).mean()\n",
    "\n",
    "print('roc-auc:', roc_auc_score(y_test, y_score))\n",
    "print('accuracy:', accuracy_score(y_test, y_pred))\n",
    "print('precision:', precision_score(y_test, y_pred))\n",
    "print('recall:', recall_score(y_test, y_pred))\n",
    "print('f1:', f1_score(y_test, y_pred))\n",
    "print('cross_val_f1:', cross_val)"
   ]
  },
  {
   "cell_type": "code",
   "execution_count": 83,
   "metadata": {
    "id": "RVsOP1Hn7mq5"
   },
   "outputs": [],
   "source": [
    "table['RandomForest'] = [roc_auc_score(y_test, y_score), accuracy_score(y_test, y_pred), \n",
    "                        precision_score(y_test, y_pred), recall_score(y_test, y_pred),\n",
    "                         f1_score(y_test, y_pred), cross_val, time_learn]"
   ]
  },
  {
   "cell_type": "markdown",
   "metadata": {
    "id": "xLW913FO8Xup"
   },
   "source": [
    "### Модель № 4 (Метод опорных векторов - 'rbf')"
   ]
  },
  {
   "cell_type": "code",
   "execution_count": 115,
   "metadata": {
    "id": "cVewpIxr9_FR"
   },
   "outputs": [],
   "source": [
    "sv = SVC(probability=True, kernel = 'rbf')"
   ]
  },
  {
   "cell_type": "code",
   "execution_count": 116,
   "metadata": {
    "id": "bq8RP19a-DHf"
   },
   "outputs": [],
   "source": [
    "import time\n",
    "s = time.time()\n",
    "sv.fit(X_train, y_train)\n",
    "time_learn = time.time()-s"
   ]
  },
  {
   "cell_type": "code",
   "execution_count": 117,
   "metadata": {
    "colab": {
     "base_uri": "https://localhost:8080/"
    },
    "id": "icGaUQWv9_Hu",
    "outputId": "0325da2a-297a-4b70-c07c-8b9521a95791"
   },
   "outputs": [
    {
     "name": "stdout",
     "output_type": "stream",
     "text": [
      "roc-auc: 0.857912085645555\n",
      "accuracy: 0.7991195551436515\n",
      "precision: 0.7091906721536351\n",
      "recall: 0.44112627986348124\n",
      "f1: 0.5439242503945292\n",
      "cross_val_f1: 0.5429581243700616\n"
     ]
    }
   ],
   "source": [
    "y_pred = sv.predict(X_test)\n",
    "y_score = sv.predict_proba(X_test)[:,1]\n",
    "f_score = make_scorer(f1_score)\n",
    "cross_val=cross_val_score(sv,  X, y,  cv = 5, scoring=f_score).mean()\n",
    "\n",
    "print('roc-auc:', roc_auc_score(y_test, y_score))\n",
    "print('accuracy:', accuracy_score(y_test, y_pred))\n",
    "print('precision:', precision_score(y_test, y_pred))\n",
    "print('recall:', recall_score(y_test, y_pred))\n",
    "print('f1:', f1_score(y_test, y_pred))\n",
    "print('cross_val_f1:', cross_val)"
   ]
  },
  {
   "cell_type": "code",
   "execution_count": 118,
   "metadata": {
    "id": "eht98Tak-XHt"
   },
   "outputs": [],
   "source": [
    "table['SVM - rbf'] = [roc_auc_score(y_test, y_score), accuracy_score(y_test, y_pred), \n",
    "                            precision_score(y_test, y_pred), recall_score(y_test, y_pred), \n",
    "                            f1_score(y_test, y_pred), cross_val, time_learn]"
   ]
  },
  {
   "cell_type": "markdown",
   "metadata": {
    "id": "pWfkHR5RKMsc"
   },
   "source": [
    "### Модель № 5 (Метод опорных векторов - 'poly')"
   ]
  },
  {
   "cell_type": "code",
   "execution_count": 119,
   "metadata": {
    "id": "HKbDQMAWKMsd"
   },
   "outputs": [],
   "source": [
    "sv = SVC(probability=True, kernel = 'poly')"
   ]
  },
  {
   "cell_type": "code",
   "execution_count": 120,
   "metadata": {
    "id": "ia57d9yLKMsd"
   },
   "outputs": [],
   "source": [
    "import time\n",
    "s = time.time()\n",
    "sv.fit(X_train, y_train)\n",
    "time_learn = time.time()-s"
   ]
  },
  {
   "cell_type": "code",
   "execution_count": 121,
   "metadata": {
    "colab": {
     "base_uri": "https://localhost:8080/"
    },
    "id": "4MZUCi4eKMsd",
    "outputId": "c0de46d9-ac69-4357-a70c-28177f1c5b78"
   },
   "outputs": [
    {
     "name": "stdout",
     "output_type": "stream",
     "text": [
      "roc-auc: 0.8587451095971307\n",
      "accuracy: 0.8025949953660797\n",
      "precision: 0.7446483180428135\n",
      "recall: 0.41552901023890787\n",
      "f1: 0.5334063526834611\n",
      "cross_val_f1: 0.5343064493580191\n"
     ]
    }
   ],
   "source": [
    "y_pred = sv.predict(X_test)\n",
    "y_score = sv.predict_proba(X_test)[:,1]\n",
    "f_score = make_scorer(f1_score)\n",
    "cross_val=cross_val_score(sv,  X, y,  cv = 5, scoring=f_score).mean()\n",
    "\n",
    "print('roc-auc:', roc_auc_score(y_test, y_score))\n",
    "print('accuracy:', accuracy_score(y_test, y_pred))\n",
    "print('precision:', precision_score(y_test, y_pred))\n",
    "print('recall:', recall_score(y_test, y_pred))\n",
    "print('f1:', f1_score(y_test, y_pred))\n",
    "print('cross_val_f1:', cross_val)"
   ]
  },
  {
   "cell_type": "code",
   "execution_count": 122,
   "metadata": {
    "id": "rs4zqqHrKMse"
   },
   "outputs": [],
   "source": [
    "table['SVM - poly'] = [roc_auc_score(y_test, y_score), accuracy_score(y_test, y_pred), \n",
    "                            precision_score(y_test, y_pred), recall_score(y_test, y_pred), \n",
    "                            f1_score(y_test, y_pred), cross_val, time_learn]"
   ]
  },
  {
   "cell_type": "markdown",
   "metadata": {
    "id": "Y2oBv3BMKXLb"
   },
   "source": [
    "### Модель № 6 (Метод опорных векторов - 'linear')"
   ]
  },
  {
   "cell_type": "code",
   "execution_count": 123,
   "metadata": {
    "id": "IgZxVc0fKXLb"
   },
   "outputs": [],
   "source": [
    "sv = SVC(probability=True, kernel = 'linear')"
   ]
  },
  {
   "cell_type": "code",
   "execution_count": 124,
   "metadata": {
    "id": "HqiNkFjiKXLc"
   },
   "outputs": [],
   "source": [
    "import time\n",
    "s = time.time()\n",
    "sv.fit(X_train, y_train)\n",
    "time_learn = time.time()-s"
   ]
  },
  {
   "cell_type": "code",
   "execution_count": 125,
   "metadata": {
    "colab": {
     "base_uri": "https://localhost:8080/"
    },
    "id": "8mQjIuXIKXLc",
    "outputId": "fc599c33-273d-42c3-c24f-b16ec882f276"
   },
   "outputs": [
    {
     "name": "stdout",
     "output_type": "stream",
     "text": [
      "roc-auc: 0.8300891670791757\n",
      "accuracy: 0.8005097312326228\n",
      "precision: 0.8232848232848233\n",
      "recall: 0.3378839590443686\n",
      "f1: 0.4791288566243194\n",
      "cross_val_f1: 0.48403795285936424\n"
     ]
    }
   ],
   "source": [
    "y_pred = sv.predict(X_test)\n",
    "y_score = sv.predict_proba(X_test)[:,1]\n",
    "f_score = make_scorer(f1_score)\n",
    "cross_val=cross_val_score(sv,  X, y,  cv = 5, scoring=f_score).mean()\n",
    "\n",
    "print('roc-auc:', roc_auc_score(y_test, y_score))\n",
    "print('accuracy:', accuracy_score(y_test, y_pred))\n",
    "print('precision:', precision_score(y_test, y_pred))\n",
    "print('recall:', recall_score(y_test, y_pred))\n",
    "print('f1:', f1_score(y_test, y_pred))\n",
    "print('cross_val_f1:', cross_val)"
   ]
  },
  {
   "cell_type": "code",
   "execution_count": 126,
   "metadata": {
    "id": "QBvGCf8CKXLc"
   },
   "outputs": [],
   "source": [
    "table['SVM - linear'] = [roc_auc_score(y_test, y_score), accuracy_score(y_test, y_pred), \n",
    "                                precision_score(y_test, y_pred), recall_score(y_test, y_pred), \n",
    "                                f1_score(y_test, y_pred), cross_val, time_learn]"
   ]
  },
  {
   "cell_type": "markdown",
   "metadata": {
    "id": "Zge5dJ8lKj1K"
   },
   "source": [
    "### Модель № 7 (Метод опорных векторов - 'sigmoid')"
   ]
  },
  {
   "cell_type": "code",
   "execution_count": 127,
   "metadata": {
    "id": "-Mtd4W83Kj1L"
   },
   "outputs": [],
   "source": [
    "sv = SVC(probability=True, kernel = 'sigmoid')"
   ]
  },
  {
   "cell_type": "code",
   "execution_count": 128,
   "metadata": {
    "id": "NC5dtuO1Kj1L"
   },
   "outputs": [],
   "source": [
    "import time\n",
    "s = time.time()\n",
    "sv.fit(X_train, y_train)\n",
    "time_learn = time.time()-s"
   ]
  },
  {
   "cell_type": "code",
   "execution_count": 129,
   "metadata": {
    "colab": {
     "base_uri": "https://localhost:8080/"
    },
    "id": "aTvrOp6WKj1L",
    "outputId": "0d26e36f-9df2-4ea0-8ca7-d8bcce99e844"
   },
   "outputs": [
    {
     "name": "stdout",
     "output_type": "stream",
     "text": [
      "roc-auc: 0.3392598937029414\n",
      "accuracy: 0.5324374420759963\n",
      "precision: 0.16105769230769232\n",
      "recall: 0.17150170648464164\n",
      "f1: 0.16611570247933882\n",
      "cross_val_f1: 0.4266654105537224\n"
     ]
    }
   ],
   "source": [
    "y_pred = sv.predict(X_test)\n",
    "y_score = sv.predict_proba(X_test)[:,1]\n",
    "f_score = make_scorer(f1_score)\n",
    "cross_val=cross_val_score(sv,  X, y,  cv = 5, scoring=f_score).mean()\n",
    "\n",
    "print('roc-auc:', roc_auc_score(y_test, y_score))\n",
    "print('accuracy:', accuracy_score(y_test, y_pred))\n",
    "print('precision:', precision_score(y_test, y_pred))\n",
    "print('recall:', recall_score(y_test, y_pred))\n",
    "print('f1:', f1_score(y_test, y_pred))\n",
    "print('cross_val_f1:', cross_val)"
   ]
  },
  {
   "cell_type": "code",
   "execution_count": 130,
   "metadata": {
    "id": "NVed35GhKj1M"
   },
   "outputs": [],
   "source": [
    "table['SVM - sigmoid'] = [roc_auc_score(y_test, y_score), accuracy_score(y_test, y_pred), \n",
    "                precision_score(y_test, y_pred), recall_score(y_test, y_pred), \n",
    "                f1_score(y_test, y_pred), cross_val, time_learn]"
   ]
  },
  {
   "cell_type": "markdown",
   "metadata": {
    "id": "-vGckMj3-dAh"
   },
   "source": [
    "### Модель № 8 (Байес)"
   ]
  },
  {
   "cell_type": "code",
   "execution_count": 100,
   "metadata": {
    "id": "tSfI7G7w9_Lk"
   },
   "outputs": [],
   "source": [
    "NB = GaussianNB()"
   ]
  },
  {
   "cell_type": "code",
   "execution_count": 101,
   "metadata": {
    "id": "yqmOKGs3Afuj"
   },
   "outputs": [],
   "source": [
    "s = time.time()\n",
    "NB.fit(X_train, y_train)\n",
    "time_learn = time.time()-s"
   ]
  },
  {
   "cell_type": "code",
   "execution_count": 102,
   "metadata": {
    "colab": {
     "base_uri": "https://localhost:8080/"
    },
    "id": "yVyqK6anAkwd",
    "outputId": "7a055cad-2def-487e-9d2c-b89b6c927d79"
   },
   "outputs": [
    {
     "name": "stdout",
     "output_type": "stream",
     "text": [
      "roc-auc: 0.8313347000408167\n",
      "accuracy: 0.7917052826691381\n",
      "precision: 0.7256198347107438\n",
      "recall: 0.37457337883959047\n",
      "f1: 0.494091164884637\n",
      "cross_val_f1: 0.49751795693778594\n"
     ]
    }
   ],
   "source": [
    "y_pred = NB.predict(X_test)\n",
    "y_score = NB.predict_proba(X_test)[:,1]\n",
    "f_score = make_scorer(f1_score)\n",
    "cross_val=cross_val_score(NB,  X, y,  cv = 5, scoring=f_score).mean()\n",
    "\n",
    "print('roc-auc:', roc_auc_score(y_test, y_score))\n",
    "print('accuracy:', accuracy_score(y_test, y_pred))\n",
    "print('precision:', precision_score(y_test, y_pred))\n",
    "print('recall:', recall_score(y_test, y_pred))\n",
    "print('f1:', f1_score(y_test, y_pred))\n",
    "print('cross_val_f1:', cross_val)"
   ]
  },
  {
   "cell_type": "code",
   "execution_count": 103,
   "metadata": {
    "id": "VHVL2dnxAkwe"
   },
   "outputs": [],
   "source": [
    "table['NB'] = [roc_auc_score(y_test, y_score), accuracy_score(y_test, y_pred), \n",
    "               precision_score(y_test, y_pred), recall_score(y_test, y_pred), \n",
    "               f1_score(y_test, y_pred), cross_val, time_learn]"
   ]
  },
  {
   "cell_type": "markdown",
   "metadata": {
    "id": "nDJZKE6q-pVX"
   },
   "source": [
    "### Модель № 9 (метод k-ближайших соседей)"
   ]
  },
  {
   "cell_type": "code",
   "execution_count": 104,
   "metadata": {
    "id": "-7n_W167-iLY"
   },
   "outputs": [],
   "source": [
    "KN = KNeighborsClassifier(n_neighbors=10)"
   ]
  },
  {
   "cell_type": "code",
   "execution_count": 105,
   "metadata": {
    "id": "vU3jkD8kBsV8"
   },
   "outputs": [],
   "source": [
    "s = time.time()\n",
    "KN.fit(X_train, y_train)\n",
    "time_learn = time.time()-s"
   ]
  },
  {
   "cell_type": "code",
   "execution_count": 106,
   "metadata": {
    "colab": {
     "base_uri": "https://localhost:8080/"
    },
    "id": "BqJa5czsB5rI",
    "outputId": "4ffc6599-05ad-424f-9eac-697d0bb13bfc"
   },
   "outputs": [
    {
     "name": "stdout",
     "output_type": "stream",
     "text": [
      "roc-auc: 0.8472291878348922\n",
      "accuracy: 0.8079240037071362\n",
      "precision: 0.7024793388429752\n",
      "recall: 0.507679180887372\n",
      "f1: 0.5894006934125805\n",
      "cross_val_f1: 0.5848243949435796\n"
     ]
    }
   ],
   "source": [
    "y_pred = KN.predict(X_test)\n",
    "y_score = KN.predict_proba(X_test)[:,1]\n",
    "f_score = make_scorer(f1_score)\n",
    "cross_val=cross_val_score(KN,  X, y,  cv = 5, scoring=f_score).mean()\n",
    "\n",
    "print('roc-auc:', roc_auc_score(y_test, y_score))\n",
    "print('accuracy:', accuracy_score(y_test, y_pred))\n",
    "print('precision:', precision_score(y_test, y_pred))\n",
    "print('recall:', recall_score(y_test, y_pred))\n",
    "print('f1:', f1_score(y_test, y_pred))\n",
    "print('cross_val_f1:', cross_val)"
   ]
  },
  {
   "cell_type": "code",
   "execution_count": 107,
   "metadata": {
    "id": "HNEdL-HHB5rJ"
   },
   "outputs": [],
   "source": [
    "table['KNN'] = [roc_auc_score(y_test, y_score), accuracy_score(y_test, y_pred), \n",
    "                precision_score(y_test, y_pred), recall_score(y_test, y_pred), \n",
    "                f1_score(y_test, y_pred), cross_val, time_learn]"
   ]
  },
  {
   "cell_type": "markdown",
   "metadata": {
    "id": "8mXaYOuag8kS"
   },
   "source": [
    "### Модель № 10 (Градиентный бустинг)"
   ]
  },
  {
   "cell_type": "code",
   "execution_count": 108,
   "metadata": {
    "id": "QWGLwRL6g8kV"
   },
   "outputs": [],
   "source": [
    "GB = GradientBoostingClassifier(n_estimators=10)"
   ]
  },
  {
   "cell_type": "code",
   "execution_count": 109,
   "metadata": {
    "id": "zqr3nr-kg8kV"
   },
   "outputs": [],
   "source": [
    "s = time.time()\n",
    "GB.fit(X_train, y_train)\n",
    "time_learn = time.time()-s"
   ]
  },
  {
   "cell_type": "code",
   "execution_count": 110,
   "metadata": {
    "colab": {
     "base_uri": "https://localhost:8080/"
    },
    "id": "GsvIT4FqC3Ip",
    "outputId": "0d8d5534-5fce-490c-b19d-aa0dae3e437b"
   },
   "outputs": [
    {
     "name": "stdout",
     "output_type": "stream",
     "text": [
      "roc-auc: 0.8740345389451927\n",
      "accuracy: 0.806533827618165\n",
      "precision: 0.9828080229226361\n",
      "recall: 0.29266211604095566\n",
      "f1: 0.45101906640368183\n",
      "cross_val_f1: 0.4475275034533131\n"
     ]
    }
   ],
   "source": [
    "y_pred = GB.predict(X_test)\n",
    "y_score = GB.predict_proba(X_test)[:,1]\n",
    "f_score = make_scorer(f1_score)\n",
    "cross_val=cross_val_score(GB,  X, y,  cv = 5, scoring=f_score).mean()\n",
    "\n",
    "print('roc-auc:', roc_auc_score(y_test, y_score))\n",
    "print('accuracy:', accuracy_score(y_test, y_pred))\n",
    "print('precision:', precision_score(y_test, y_pred))\n",
    "print('recall:', recall_score(y_test, y_pred))\n",
    "print('f1:', f1_score(y_test, y_pred))\n",
    "print('cross_val_f1:', cross_val)"
   ]
  },
  {
   "cell_type": "code",
   "execution_count": 111,
   "metadata": {
    "id": "9lb-P-59C3Iq"
   },
   "outputs": [],
   "source": [
    "table['GradientBoosting'] = [roc_auc_score(y_test, y_score), accuracy_score(y_test, y_pred), \n",
    "                            precision_score(y_test, y_pred), recall_score(y_test, y_pred), \n",
    "                             f1_score(y_test, y_pred), cross_val, time_learn]"
   ]
  },
  {
   "cell_type": "code",
   "execution_count": 136,
   "metadata": {
    "colab": {
     "base_uri": "https://localhost:8080/",
     "height": 367
    },
    "id": "cFcw34NuDfQu",
    "outputId": "ea2a0fbe-b2d4-4be8-d9e0-65db4b4efbc0"
   },
   "outputs": [
    {
     "data": {
      "text/html": [
       "<div>\n",
       "<style scoped>\n",
       "    .dataframe tbody tr th:only-of-type {\n",
       "        vertical-align: middle;\n",
       "    }\n",
       "\n",
       "    .dataframe tbody tr th {\n",
       "        vertical-align: top;\n",
       "    }\n",
       "\n",
       "    .dataframe thead th {\n",
       "        text-align: right;\n",
       "    }\n",
       "</style>\n",
       "<table border=\"1\" class=\"dataframe\">\n",
       "  <thead>\n",
       "    <tr style=\"text-align: right;\">\n",
       "      <th></th>\n",
       "      <th>LogisticRegression</th>\n",
       "      <th>DecisionTree</th>\n",
       "      <th>RandomForest</th>\n",
       "      <th>NB</th>\n",
       "      <th>KNN</th>\n",
       "      <th>GradientBoosting</th>\n",
       "      <th>SVM - rbf</th>\n",
       "      <th>SVM - poly</th>\n",
       "      <th>SVM - linear</th>\n",
       "      <th>SVM - sigmoid</th>\n",
       "    </tr>\n",
       "  </thead>\n",
       "  <tbody>\n",
       "    <tr>\n",
       "      <th>roc-auc</th>\n",
       "      <td>0.832284</td>\n",
       "      <td>0.718232</td>\n",
       "      <td>0.858721</td>\n",
       "      <td>0.831335</td>\n",
       "      <td>0.847229</td>\n",
       "      <td>0.874035</td>\n",
       "      <td>0.857912</td>\n",
       "      <td>0.858745</td>\n",
       "      <td>0.830089</td>\n",
       "      <td>0.339260</td>\n",
       "    </tr>\n",
       "    <tr>\n",
       "      <th>accuracy</th>\n",
       "      <td>0.809778</td>\n",
       "      <td>0.767377</td>\n",
       "      <td>0.801900</td>\n",
       "      <td>0.791705</td>\n",
       "      <td>0.807924</td>\n",
       "      <td>0.806534</td>\n",
       "      <td>0.799120</td>\n",
       "      <td>0.802595</td>\n",
       "      <td>0.800510</td>\n",
       "      <td>0.532437</td>\n",
       "    </tr>\n",
       "    <tr>\n",
       "      <th>precision</th>\n",
       "      <td>0.735570</td>\n",
       "      <td>0.570826</td>\n",
       "      <td>0.646895</td>\n",
       "      <td>0.725620</td>\n",
       "      <td>0.702479</td>\n",
       "      <td>0.982808</td>\n",
       "      <td>0.709191</td>\n",
       "      <td>0.744648</td>\n",
       "      <td>0.823285</td>\n",
       "      <td>0.161058</td>\n",
       "    </tr>\n",
       "    <tr>\n",
       "      <th>recall</th>\n",
       "      <td>0.467577</td>\n",
       "      <td>0.577645</td>\n",
       "      <td>0.595563</td>\n",
       "      <td>0.374573</td>\n",
       "      <td>0.507679</td>\n",
       "      <td>0.292662</td>\n",
       "      <td>0.441126</td>\n",
       "      <td>0.415529</td>\n",
       "      <td>0.337884</td>\n",
       "      <td>0.171502</td>\n",
       "    </tr>\n",
       "    <tr>\n",
       "      <th>f1</th>\n",
       "      <td>0.571727</td>\n",
       "      <td>0.574215</td>\n",
       "      <td>0.620169</td>\n",
       "      <td>0.494091</td>\n",
       "      <td>0.589401</td>\n",
       "      <td>0.451019</td>\n",
       "      <td>0.543924</td>\n",
       "      <td>0.533406</td>\n",
       "      <td>0.479129</td>\n",
       "      <td>0.166116</td>\n",
       "    </tr>\n",
       "    <tr>\n",
       "      <th>cross_val_f1</th>\n",
       "      <td>0.561143</td>\n",
       "      <td>0.585443</td>\n",
       "      <td>0.619734</td>\n",
       "      <td>0.497518</td>\n",
       "      <td>0.584824</td>\n",
       "      <td>0.447528</td>\n",
       "      <td>0.542958</td>\n",
       "      <td>0.534306</td>\n",
       "      <td>0.484038</td>\n",
       "      <td>0.426665</td>\n",
       "    </tr>\n",
       "    <tr>\n",
       "      <th>time</th>\n",
       "      <td>0.128487</td>\n",
       "      <td>0.041263</td>\n",
       "      <td>0.986525</td>\n",
       "      <td>0.006714</td>\n",
       "      <td>0.072565</td>\n",
       "      <td>0.096414</td>\n",
       "      <td>25.710351</td>\n",
       "      <td>22.066120</td>\n",
       "      <td>33.197788</td>\n",
       "      <td>20.557341</td>\n",
       "    </tr>\n",
       "  </tbody>\n",
       "</table>\n",
       "</div>"
      ],
      "text/plain": [
       "              LogisticRegression  DecisionTree  RandomForest        NB  \\\n",
       "roc-auc                 0.832284      0.718232      0.858721  0.831335   \n",
       "accuracy                0.809778      0.767377      0.801900  0.791705   \n",
       "precision               0.735570      0.570826      0.646895  0.725620   \n",
       "recall                  0.467577      0.577645      0.595563  0.374573   \n",
       "f1                      0.571727      0.574215      0.620169  0.494091   \n",
       "cross_val_f1            0.561143      0.585443      0.619734  0.497518   \n",
       "time                    0.128487      0.041263      0.986525  0.006714   \n",
       "\n",
       "                   KNN  GradientBoosting  SVM - rbf  SVM - poly  SVM - linear  \\\n",
       "roc-auc       0.847229          0.874035   0.857912    0.858745      0.830089   \n",
       "accuracy      0.807924          0.806534   0.799120    0.802595      0.800510   \n",
       "precision     0.702479          0.982808   0.709191    0.744648      0.823285   \n",
       "recall        0.507679          0.292662   0.441126    0.415529      0.337884   \n",
       "f1            0.589401          0.451019   0.543924    0.533406      0.479129   \n",
       "cross_val_f1  0.584824          0.447528   0.542958    0.534306      0.484038   \n",
       "time          0.072565          0.096414  25.710351   22.066120     33.197788   \n",
       "\n",
       "              SVM - sigmoid  \n",
       "roc-auc            0.339260  \n",
       "accuracy           0.532437  \n",
       "precision          0.161058  \n",
       "recall             0.171502  \n",
       "f1                 0.166116  \n",
       "cross_val_f1       0.426665  \n",
       "time              20.557341  "
      ]
     },
     "execution_count": 136,
     "metadata": {},
     "output_type": "execute_result"
    }
   ],
   "source": [
    "table"
   ]
  },
  {
   "cell_type": "markdown",
   "metadata": {
    "id": "4RlhQ7HhtvKq"
   },
   "source": [
    "### GridSearchCV для RandomForest"
   ]
  },
  {
   "cell_type": "markdown",
   "metadata": {
    "id": "_KuP4zV7qsvx"
   },
   "source": [
    "Построение модели и оптимизация гиперпараметров."
   ]
  },
  {
   "cell_type": "code",
   "execution_count": 137,
   "metadata": {
    "colab": {
     "base_uri": "https://localhost:8080/"
    },
    "id": "6PkisCN0JLpS",
    "outputId": "c1094526-2a36-47f2-8ade-7efc2ccce6e8"
   },
   "outputs": [
    {
     "data": {
      "text/plain": [
       "{'max_depth': 14, 'n_estimators': 128}"
      ]
     },
     "execution_count": 137,
     "metadata": {},
     "output_type": "execute_result"
    }
   ],
   "source": [
    "max_depth=[12, 14, 16, 18, 20]\n",
    "n_estimators = [64, 128, 512]\n",
    "param_grid = dict(max_depth=max_depth, n_estimators=n_estimators)\n",
    "\n",
    "dfrst = RandomForestClassifier()\n",
    "\n",
    "grid = GridSearchCV(estimator=dfrst, param_grid=param_grid, scoring = f_score)\n",
    "grid_results = grid.fit(X_train, y_train)\n",
    "\n",
    "grid_results.best_params_\n"
   ]
  },
  {
   "cell_type": "code",
   "execution_count": 138,
   "metadata": {
    "id": "qnemjXJzKNWs"
   },
   "outputs": [],
   "source": [
    "RF = RandomForestClassifier(max_depth=14, n_estimators=128 )"
   ]
  },
  {
   "cell_type": "code",
   "execution_count": 139,
   "metadata": {
    "id": "QlJ377AzKNWt"
   },
   "outputs": [],
   "source": [
    "s = time.time()\n",
    "RF.fit(X_train, y_train)\n",
    "time_learn = time.time()-s"
   ]
  },
  {
   "cell_type": "code",
   "execution_count": 140,
   "metadata": {
    "colab": {
     "base_uri": "https://localhost:8080/"
    },
    "id": "40T1c5j8KNWt",
    "outputId": "1f070d52-8760-491a-e5e0-278391a97ec9"
   },
   "outputs": [
    {
     "name": "stdout",
     "output_type": "stream",
     "text": [
      "roc-auc: 0.9099366635837046\n",
      "accuracy: 0.8487025023169601\n",
      "precision: 0.7886540600667408\n",
      "recall: 0.6049488054607508\n",
      "f1: 0.6846933848382424\n",
      "cross_val_f1: 0.6925310567774609\n"
     ]
    }
   ],
   "source": [
    "y_pred = RF.predict(X_test)\n",
    "y_score = RF.predict_proba(X_test)[:,1]\n",
    "f_score = make_scorer(f1_score)\n",
    "cross_val=cross_val_score(RF,  X, y,  cv = 5, scoring=f_score).mean()\n",
    "\n",
    "print('roc-auc:', roc_auc_score(y_test, y_score))\n",
    "print('accuracy:', accuracy_score(y_test, y_pred))\n",
    "print('precision:', precision_score(y_test, y_pred))\n",
    "print('recall:', recall_score(y_test, y_pred))\n",
    "print('f1:', f1_score(y_test, y_pred))\n",
    "print('cross_val_f1:', cross_val)"
   ]
  },
  {
   "cell_type": "code",
   "execution_count": 142,
   "metadata": {},
   "outputs": [],
   "source": [
    "table_best = pd.DataFrame(index=['roc-auc', 'accuracy','precision', 'recall', 'f1','cross_val_f1','time'])\n",
    "table_best['RandomForest'] = table['RandomForest']\n",
    "table_best['DecisionTree'] = table['DecisionTree']\n",
    "table_best['KNN'] = table['KNN']\n",
    "\n",
    "table_best['RandomForest_GS'] = [roc_auc_score(y_test, y_score), accuracy_score(y_test, y_pred), \n",
    "                                precision_score(y_test, y_pred), recall_score(y_test, y_pred), \n",
    "                                 f1_score(y_test, y_pred), cross_val, time_learn]"
   ]
  },
  {
   "cell_type": "code",
   "execution_count": 143,
   "metadata": {},
   "outputs": [
    {
     "data": {
      "text/html": [
       "<div>\n",
       "<style scoped>\n",
       "    .dataframe tbody tr th:only-of-type {\n",
       "        vertical-align: middle;\n",
       "    }\n",
       "\n",
       "    .dataframe tbody tr th {\n",
       "        vertical-align: top;\n",
       "    }\n",
       "\n",
       "    .dataframe thead th {\n",
       "        text-align: right;\n",
       "    }\n",
       "</style>\n",
       "<table border=\"1\" class=\"dataframe\">\n",
       "  <thead>\n",
       "    <tr style=\"text-align: right;\">\n",
       "      <th></th>\n",
       "      <th>RandomForest</th>\n",
       "      <th>DecisionTree</th>\n",
       "      <th>KNN</th>\n",
       "      <th>RandomForest_GS</th>\n",
       "    </tr>\n",
       "  </thead>\n",
       "  <tbody>\n",
       "    <tr>\n",
       "      <th>roc-auc</th>\n",
       "      <td>0.858721</td>\n",
       "      <td>0.718232</td>\n",
       "      <td>0.847229</td>\n",
       "      <td>0.909937</td>\n",
       "    </tr>\n",
       "    <tr>\n",
       "      <th>accuracy</th>\n",
       "      <td>0.801900</td>\n",
       "      <td>0.767377</td>\n",
       "      <td>0.807924</td>\n",
       "      <td>0.848703</td>\n",
       "    </tr>\n",
       "    <tr>\n",
       "      <th>precision</th>\n",
       "      <td>0.646895</td>\n",
       "      <td>0.570826</td>\n",
       "      <td>0.702479</td>\n",
       "      <td>0.788654</td>\n",
       "    </tr>\n",
       "    <tr>\n",
       "      <th>recall</th>\n",
       "      <td>0.595563</td>\n",
       "      <td>0.577645</td>\n",
       "      <td>0.507679</td>\n",
       "      <td>0.604949</td>\n",
       "    </tr>\n",
       "    <tr>\n",
       "      <th>f1</th>\n",
       "      <td>0.620169</td>\n",
       "      <td>0.574215</td>\n",
       "      <td>0.589401</td>\n",
       "      <td>0.684693</td>\n",
       "    </tr>\n",
       "    <tr>\n",
       "      <th>cross_val_f1</th>\n",
       "      <td>0.619734</td>\n",
       "      <td>0.585443</td>\n",
       "      <td>0.584824</td>\n",
       "      <td>0.692531</td>\n",
       "    </tr>\n",
       "    <tr>\n",
       "      <th>time</th>\n",
       "      <td>0.986525</td>\n",
       "      <td>0.041263</td>\n",
       "      <td>0.072565</td>\n",
       "      <td>0.898659</td>\n",
       "    </tr>\n",
       "  </tbody>\n",
       "</table>\n",
       "</div>"
      ],
      "text/plain": [
       "              RandomForest  DecisionTree       KNN  RandomForest_GS\n",
       "roc-auc           0.858721      0.718232  0.847229         0.909937\n",
       "accuracy          0.801900      0.767377  0.807924         0.848703\n",
       "precision         0.646895      0.570826  0.702479         0.788654\n",
       "recall            0.595563      0.577645  0.507679         0.604949\n",
       "f1                0.620169      0.574215  0.589401         0.684693\n",
       "cross_val_f1      0.619734      0.585443  0.584824         0.692531\n",
       "time              0.986525      0.041263  0.072565         0.898659"
      ]
     },
     "execution_count": 143,
     "metadata": {},
     "output_type": "execute_result"
    }
   ],
   "source": [
    "table_best"
   ]
  },
  {
   "cell_type": "markdown",
   "metadata": {
    "id": "CjHvC901t2sd"
   },
   "source": [
    "### GridSearchCV для DecisionTree"
   ]
  },
  {
   "cell_type": "code",
   "execution_count": 144,
   "metadata": {
    "colab": {
     "base_uri": "https://localhost:8080/"
    },
    "id": "H2R3zR4tv7F4",
    "outputId": "36004f74-c763-477d-f4c6-5d844465707c"
   },
   "outputs": [
    {
     "data": {
      "text/plain": [
       "{'criterion': 'gini', 'max_depth': 14}"
      ]
     },
     "execution_count": 144,
     "metadata": {},
     "output_type": "execute_result"
    }
   ],
   "source": [
    "param_grid = { 'criterion':['gini','entropy'],'max_depth': np.arange(3, 15)}\n",
    "dtree_model=tree.DecisionTreeClassifier()\n",
    "dtree_gscv = GridSearchCV(dtree_model, param_grid, scoring = f_score)\n",
    "dtree_gscv.fit(X_train, y_train)\n",
    "dtree_gscv.best_params_"
   ]
  },
  {
   "cell_type": "code",
   "execution_count": 145,
   "metadata": {
    "id": "kYUw8WWVts66"
   },
   "outputs": [],
   "source": [
    "clf = tree.DecisionTreeClassifier(criterion='gini', max_depth=14)"
   ]
  },
  {
   "cell_type": "code",
   "execution_count": 146,
   "metadata": {
    "id": "hByvouSHts67"
   },
   "outputs": [],
   "source": [
    "s = time.time()\n",
    "clf.fit(X_train, y_train)\n",
    "time_learn = time.time()-s"
   ]
  },
  {
   "cell_type": "code",
   "execution_count": 147,
   "metadata": {
    "colab": {
     "base_uri": "https://localhost:8080/"
    },
    "id": "FyWQY6nQts67",
    "outputId": "3e351dae-f86e-4cc9-b5f7-ef9e50442c72"
   },
   "outputs": [
    {
     "name": "stdout",
     "output_type": "stream",
     "text": [
      "roc-auc: 0.8764698347358639\n",
      "accuracy: 0.8463855421686747\n",
      "precision: 0.7315741583257507\n",
      "recall: 0.6860068259385665\n",
      "f1: 0.7080581241743725\n",
      "cross_val_f1: 0.6918973733019115\n"
     ]
    }
   ],
   "source": [
    "y_pred = clf.predict(X_test)\n",
    "y_score = clf.predict_proba(X_test)[:,1]\n",
    "f_score = make_scorer(f1_score)\n",
    "cross_val=cross_val_score(clf,  X, y,  cv = 5, scoring=f_score).mean()\n",
    "\n",
    "print('roc-auc:', roc_auc_score(y_test, y_score))\n",
    "print('accuracy:', accuracy_score(y_test, y_pred))\n",
    "print('precision:', precision_score(y_test, y_pred))\n",
    "print('recall:', recall_score(y_test, y_pred))\n",
    "print('f1:', f1_score(y_test, y_pred))\n",
    "print('cross_val_f1:', cross_val)"
   ]
  },
  {
   "cell_type": "code",
   "execution_count": 148,
   "metadata": {},
   "outputs": [],
   "source": [
    "table_best['DecisionTree_GS'] = [roc_auc_score(y_test, y_score), accuracy_score(y_test, y_pred), \n",
    "                                precision_score(y_test, y_pred), recall_score(y_test, y_pred), \n",
    "                                 f1_score(y_test, y_pred), cross_val, time_learn]"
   ]
  },
  {
   "cell_type": "markdown",
   "metadata": {
    "id": "_MzAVSKmxYc2"
   },
   "source": [
    "### GridSearchCV для KNN"
   ]
  },
  {
   "cell_type": "code",
   "execution_count": 149,
   "metadata": {
    "colab": {
     "base_uri": "https://localhost:8080/"
    },
    "id": "QxRvEV9wxr3Q",
    "outputId": "ca291880-19ee-4e38-881d-d102a236c40c"
   },
   "outputs": [
    {
     "data": {
      "text/plain": [
       "{'n_neighbors': 29}"
      ]
     },
     "execution_count": 149,
     "metadata": {},
     "output_type": "execute_result"
    }
   ],
   "source": [
    "param_grid = { 'n_neighbors': np.arange(1, 31)}\n",
    "KN = KNeighborsClassifier()\n",
    "KN_gscv = GridSearchCV(KN, param_grid, scoring = f_score)\n",
    "KN_gscv.fit(X_train, y_train)\n",
    "KN_gscv.best_params_"
   ]
  },
  {
   "cell_type": "code",
   "execution_count": 150,
   "metadata": {
    "id": "1rFR4uGpxdaJ"
   },
   "outputs": [],
   "source": [
    "KN = KNeighborsClassifier(n_neighbors=29)"
   ]
  },
  {
   "cell_type": "code",
   "execution_count": 151,
   "metadata": {
    "id": "kKEnzIgpxdaK"
   },
   "outputs": [],
   "source": [
    "s = time.time()\n",
    "KN.fit(X_train, y_train)\n",
    "time_learn = time.time()-s"
   ]
  },
  {
   "cell_type": "code",
   "execution_count": 152,
   "metadata": {
    "colab": {
     "base_uri": "https://localhost:8080/"
    },
    "id": "CxvIujefxdaL",
    "outputId": "da957aea-b352-4987-f192-1fa3ba4c2a98"
   },
   "outputs": [
    {
     "name": "stdout",
     "output_type": "stream",
     "text": [
      "roc-auc: 0.8603844258308802\n",
      "accuracy: 0.8107043558850788\n",
      "precision: 0.6831785345717234\n",
      "recall: 0.5648464163822525\n",
      "f1: 0.6184026156001867\n",
      "cross_val_f1: 0.6201178577819587\n"
     ]
    }
   ],
   "source": [
    "y_pred = KN.predict(X_test)\n",
    "y_score = KN.predict_proba(X_test)[:,1]\n",
    "f_score = make_scorer(f1_score)\n",
    "cross_val=cross_val_score(KN,  X, y,  cv = 5, scoring=f_score).mean()\n",
    "\n",
    "print('roc-auc:', roc_auc_score(y_test, y_score))\n",
    "print('accuracy:', accuracy_score(y_test, y_pred))\n",
    "print('precision:', precision_score(y_test, y_pred))\n",
    "print('recall:', recall_score(y_test, y_pred))\n",
    "print('f1:', f1_score(y_test, y_pred))\n",
    "print('cross_val_f1:', cross_val)"
   ]
  },
  {
   "cell_type": "code",
   "execution_count": 153,
   "metadata": {},
   "outputs": [],
   "source": [
    "table_best['KNN_GS'] = [roc_auc_score(y_test, y_score), accuracy_score(y_test, y_pred), \n",
    "                                precision_score(y_test, y_pred), recall_score(y_test, y_pred), \n",
    "                                 f1_score(y_test, y_pred), cross_val, time_learn]"
   ]
  },
  {
   "cell_type": "markdown",
   "metadata": {
    "id": "mzL331ltznhz"
   },
   "source": [
    "### Добавление суррогатных признаков"
   ]
  },
  {
   "cell_type": "code",
   "execution_count": 154,
   "metadata": {
    "id": "87vcAUW7yr09"
   },
   "outputs": [],
   "source": [
    "pca = PCA(n_components = 5)\n",
    "X2D= pca.fit_transform(X)\n",
    "X_new = np.hstack([X, X2D])"
   ]
  },
  {
   "cell_type": "code",
   "execution_count": 155,
   "metadata": {
    "colab": {
     "base_uri": "https://localhost:8080/"
    },
    "id": "cRvXzMSj0AAA",
    "outputId": "b5d62f01-07c4-4367-86b6-2926e5b06a8f"
   },
   "outputs": [
    {
     "data": {
      "text/plain": [
       "(21576, 13)"
      ]
     },
     "execution_count": 155,
     "metadata": {},
     "output_type": "execute_result"
    }
   ],
   "source": [
    "X_new.shape"
   ]
  },
  {
   "cell_type": "code",
   "execution_count": 156,
   "metadata": {
    "id": "lGEqUW2z0GgI"
   },
   "outputs": [],
   "source": [
    "X_train, X_test, y_train, y_test = train_test_split(X_new, y, test_size= 0.2, random_state=42, shuffle = True)"
   ]
  },
  {
   "cell_type": "code",
   "execution_count": 158,
   "metadata": {
    "id": "rdfu8LCQ0Vts"
   },
   "outputs": [],
   "source": [
    "RF = RandomForestClassifier(max_depth=14, n_estimators=128 )"
   ]
  },
  {
   "cell_type": "code",
   "execution_count": 159,
   "metadata": {
    "id": "lPhIZLNJ0Vts"
   },
   "outputs": [],
   "source": [
    "s = time.time()\n",
    "RF.fit(X_train, y_train)\n",
    "time_learn = time.time()-s"
   ]
  },
  {
   "cell_type": "code",
   "execution_count": 160,
   "metadata": {
    "colab": {
     "base_uri": "https://localhost:8080/"
    },
    "id": "ZyPjJf5J0oea",
    "outputId": "2ed9562a-4da2-4d0b-f2e1-9d63311dea4e"
   },
   "outputs": [
    {
     "name": "stdout",
     "output_type": "stream",
     "text": [
      "roc-auc: 0.8953740099783759\n",
      "accuracy: 0.8378127896200185\n",
      "precision: 0.7336633663366336\n",
      "recall: 0.6322525597269625\n",
      "f1: 0.6791934005499541\n",
      "cross_val_f1: 0.6908542642850855\n"
     ]
    }
   ],
   "source": [
    "y_pred = RF.predict(X_test)\n",
    "y_score = RF.predict_proba(X_test)[:,1]\n",
    "f_score = make_scorer(f1_score)\n",
    "cross_val=cross_val_score(RF,  X, y,  cv = 5, scoring=f_score).mean()\n",
    "\n",
    "print('roc-auc:', roc_auc_score(y_test, y_score))\n",
    "print('accuracy:', accuracy_score(y_test, y_pred))\n",
    "print('precision:', precision_score(y_test, y_pred))\n",
    "print('recall:', recall_score(y_test, y_pred))\n",
    "print('f1:', f1_score(y_test, y_pred))\n",
    "print('cross_val_f1:', cross_val)"
   ]
  },
  {
   "cell_type": "code",
   "execution_count": 161,
   "metadata": {},
   "outputs": [],
   "source": [
    "table_best['RandomForest_PCA'] = [roc_auc_score(y_test, y_score), accuracy_score(y_test, y_pred), \n",
    "                                precision_score(y_test, y_pred), recall_score(y_test, y_pred), \n",
    "                                 f1_score(y_test, y_pred), cross_val, time_learn]"
   ]
  },
  {
   "cell_type": "code",
   "execution_count": 162,
   "metadata": {
    "id": "IoeB8h2X0_lj"
   },
   "outputs": [],
   "source": [
    "clf = tree.DecisionTreeClassifier(criterion='gini', max_depth=14)"
   ]
  },
  {
   "cell_type": "code",
   "execution_count": 163,
   "metadata": {
    "id": "6BQ059pH0_lk"
   },
   "outputs": [],
   "source": [
    "s = time.time()\n",
    "clf.fit(X_train, y_train)\n",
    "time_learn = time.time()-s"
   ]
  },
  {
   "cell_type": "code",
   "execution_count": 164,
   "metadata": {
    "colab": {
     "base_uri": "https://localhost:8080/"
    },
    "id": "uSDyjH5K1Cid",
    "outputId": "7947e5bd-e788-439b-fc5d-80d57b504d5a"
   },
   "outputs": [
    {
     "name": "stdout",
     "output_type": "stream",
     "text": [
      "roc-auc: 0.8464013202459423\n",
      "accuracy: 0.8280815569972196\n",
      "precision: 0.6759410801963993\n",
      "recall: 0.7047781569965871\n",
      "f1: 0.6900584795321637\n",
      "cross_val_f1: 0.6908531969935707\n"
     ]
    }
   ],
   "source": [
    "y_pred = clf.predict(X_test)\n",
    "y_score = clf.predict_proba(X_test)[:,1]\n",
    "f_score = make_scorer(f1_score)\n",
    "cross_val=cross_val_score(clf,  X, y,  cv = 5, scoring=f_score).mean()\n",
    "\n",
    "print('roc-auc:', roc_auc_score(y_test, y_score))\n",
    "print('accuracy:', accuracy_score(y_test, y_pred))\n",
    "print('precision:', precision_score(y_test, y_pred))\n",
    "print('recall:', recall_score(y_test, y_pred))\n",
    "print('f1:', f1_score(y_test, y_pred))\n",
    "print('cross_val_f1:', cross_val)"
   ]
  },
  {
   "cell_type": "code",
   "execution_count": 165,
   "metadata": {},
   "outputs": [],
   "source": [
    "table_best['DecisionTree_PCA'] = [roc_auc_score(y_test, y_score), accuracy_score(y_test, y_pred), \n",
    "                                precision_score(y_test, y_pred), recall_score(y_test, y_pred), \n",
    "                                 f1_score(y_test, y_pred), cross_val, time_learn]"
   ]
  },
  {
   "cell_type": "code",
   "execution_count": 166,
   "metadata": {
    "id": "57MUx5L21j28"
   },
   "outputs": [],
   "source": [
    "KN = KNeighborsClassifier(n_neighbors=29)"
   ]
  },
  {
   "cell_type": "code",
   "execution_count": 167,
   "metadata": {
    "id": "mVGDz7YB1j28"
   },
   "outputs": [],
   "source": [
    "s = time.time()\n",
    "KN.fit(X_train, y_train)\n",
    "time_learn = time.time()-s"
   ]
  },
  {
   "cell_type": "code",
   "execution_count": 168,
   "metadata": {
    "colab": {
     "base_uri": "https://localhost:8080/"
    },
    "id": "rMnjGglL1j29",
    "outputId": "2f19406e-7699-485d-c962-8a7a8997e063"
   },
   "outputs": [
    {
     "name": "stdout",
     "output_type": "stream",
     "text": [
      "roc-auc: 0.8579983868726606\n",
      "accuracy: 0.8093141797961075\n",
      "precision: 0.6778797145769623\n",
      "recall: 0.5674061433447098\n",
      "f1: 0.6177426846261032\n",
      "cross_val_f1: 0.6201178577819587\n"
     ]
    }
   ],
   "source": [
    "y_pred = KN.predict(X_test)\n",
    "y_score = KN.predict_proba(X_test)[:,1]\n",
    "f_score = make_scorer(f1_score)\n",
    "cross_val=cross_val_score(KN,  X, y,  cv = 5, scoring=f_score).mean()\n",
    "\n",
    "print('roc-auc:', roc_auc_score(y_test, y_score))\n",
    "print('accuracy:', accuracy_score(y_test, y_pred))\n",
    "print('precision:', precision_score(y_test, y_pred))\n",
    "print('recall:', recall_score(y_test, y_pred))\n",
    "print('f1:', f1_score(y_test, y_pred))\n",
    "print('cross_val_f1:', cross_val)"
   ]
  },
  {
   "cell_type": "code",
   "execution_count": 169,
   "metadata": {
    "id": "9bHCE9JB0Goq"
   },
   "outputs": [],
   "source": [
    "table_best['KNN_PCA'] = [roc_auc_score(y_test, y_score), accuracy_score(y_test, y_pred), \n",
    "                                precision_score(y_test, y_pred), recall_score(y_test, y_pred), \n",
    "                                 f1_score(y_test, y_pred), cross_val, time_learn]"
   ]
  },
  {
   "cell_type": "code",
   "execution_count": 170,
   "metadata": {
    "id": "9JYVLoM-0Gqd"
   },
   "outputs": [
    {
     "data": {
      "text/html": [
       "<div>\n",
       "<style scoped>\n",
       "    .dataframe tbody tr th:only-of-type {\n",
       "        vertical-align: middle;\n",
       "    }\n",
       "\n",
       "    .dataframe tbody tr th {\n",
       "        vertical-align: top;\n",
       "    }\n",
       "\n",
       "    .dataframe thead th {\n",
       "        text-align: right;\n",
       "    }\n",
       "</style>\n",
       "<table border=\"1\" class=\"dataframe\">\n",
       "  <thead>\n",
       "    <tr style=\"text-align: right;\">\n",
       "      <th></th>\n",
       "      <th>RandomForest</th>\n",
       "      <th>DecisionTree</th>\n",
       "      <th>KNN</th>\n",
       "      <th>RandomForest_GS</th>\n",
       "      <th>DecisionTree_GS</th>\n",
       "      <th>KNN_GS</th>\n",
       "      <th>RandomForest_PCA</th>\n",
       "      <th>DecisionTree_PCA</th>\n",
       "      <th>KNN_PCA</th>\n",
       "    </tr>\n",
       "  </thead>\n",
       "  <tbody>\n",
       "    <tr>\n",
       "      <th>roc-auc</th>\n",
       "      <td>0.858721</td>\n",
       "      <td>0.718232</td>\n",
       "      <td>0.847229</td>\n",
       "      <td>0.909937</td>\n",
       "      <td>0.876470</td>\n",
       "      <td>0.860384</td>\n",
       "      <td>0.895374</td>\n",
       "      <td>0.846401</td>\n",
       "      <td>0.857998</td>\n",
       "    </tr>\n",
       "    <tr>\n",
       "      <th>accuracy</th>\n",
       "      <td>0.801900</td>\n",
       "      <td>0.767377</td>\n",
       "      <td>0.807924</td>\n",
       "      <td>0.848703</td>\n",
       "      <td>0.846386</td>\n",
       "      <td>0.810704</td>\n",
       "      <td>0.837813</td>\n",
       "      <td>0.828082</td>\n",
       "      <td>0.809314</td>\n",
       "    </tr>\n",
       "    <tr>\n",
       "      <th>precision</th>\n",
       "      <td>0.646895</td>\n",
       "      <td>0.570826</td>\n",
       "      <td>0.702479</td>\n",
       "      <td>0.788654</td>\n",
       "      <td>0.731574</td>\n",
       "      <td>0.683179</td>\n",
       "      <td>0.733663</td>\n",
       "      <td>0.675941</td>\n",
       "      <td>0.677880</td>\n",
       "    </tr>\n",
       "    <tr>\n",
       "      <th>recall</th>\n",
       "      <td>0.595563</td>\n",
       "      <td>0.577645</td>\n",
       "      <td>0.507679</td>\n",
       "      <td>0.604949</td>\n",
       "      <td>0.686007</td>\n",
       "      <td>0.564846</td>\n",
       "      <td>0.632253</td>\n",
       "      <td>0.704778</td>\n",
       "      <td>0.567406</td>\n",
       "    </tr>\n",
       "    <tr>\n",
       "      <th>f1</th>\n",
       "      <td>0.620169</td>\n",
       "      <td>0.574215</td>\n",
       "      <td>0.589401</td>\n",
       "      <td>0.684693</td>\n",
       "      <td>0.708058</td>\n",
       "      <td>0.618403</td>\n",
       "      <td>0.679193</td>\n",
       "      <td>0.690058</td>\n",
       "      <td>0.617743</td>\n",
       "    </tr>\n",
       "    <tr>\n",
       "      <th>cross_val_f1</th>\n",
       "      <td>0.619734</td>\n",
       "      <td>0.585443</td>\n",
       "      <td>0.584824</td>\n",
       "      <td>0.692531</td>\n",
       "      <td>0.691897</td>\n",
       "      <td>0.620118</td>\n",
       "      <td>0.690854</td>\n",
       "      <td>0.690853</td>\n",
       "      <td>0.620118</td>\n",
       "    </tr>\n",
       "    <tr>\n",
       "      <th>time</th>\n",
       "      <td>0.986525</td>\n",
       "      <td>0.041263</td>\n",
       "      <td>0.072565</td>\n",
       "      <td>0.898659</td>\n",
       "      <td>0.037927</td>\n",
       "      <td>0.068181</td>\n",
       "      <td>2.362163</td>\n",
       "      <td>0.123037</td>\n",
       "      <td>0.023113</td>\n",
       "    </tr>\n",
       "  </tbody>\n",
       "</table>\n",
       "</div>"
      ],
      "text/plain": [
       "              RandomForest  DecisionTree       KNN  RandomForest_GS  \\\n",
       "roc-auc           0.858721      0.718232  0.847229         0.909937   \n",
       "accuracy          0.801900      0.767377  0.807924         0.848703   \n",
       "precision         0.646895      0.570826  0.702479         0.788654   \n",
       "recall            0.595563      0.577645  0.507679         0.604949   \n",
       "f1                0.620169      0.574215  0.589401         0.684693   \n",
       "cross_val_f1      0.619734      0.585443  0.584824         0.692531   \n",
       "time              0.986525      0.041263  0.072565         0.898659   \n",
       "\n",
       "              DecisionTree_GS    KNN_GS  RandomForest_PCA  DecisionTree_PCA  \\\n",
       "roc-auc              0.876470  0.860384          0.895374          0.846401   \n",
       "accuracy             0.846386  0.810704          0.837813          0.828082   \n",
       "precision            0.731574  0.683179          0.733663          0.675941   \n",
       "recall               0.686007  0.564846          0.632253          0.704778   \n",
       "f1                   0.708058  0.618403          0.679193          0.690058   \n",
       "cross_val_f1         0.691897  0.620118          0.690854          0.690853   \n",
       "time                 0.037927  0.068181          2.362163          0.123037   \n",
       "\n",
       "               KNN_PCA  \n",
       "roc-auc       0.857998  \n",
       "accuracy      0.809314  \n",
       "precision     0.677880  \n",
       "recall        0.567406  \n",
       "f1            0.617743  \n",
       "cross_val_f1  0.620118  \n",
       "time          0.023113  "
      ]
     },
     "execution_count": 170,
     "metadata": {},
     "output_type": "execute_result"
    }
   ],
   "source": [
    "table_best"
   ]
  },
  {
   "cell_type": "code",
   "execution_count": null,
   "metadata": {},
   "outputs": [],
   "source": []
  },
  {
   "cell_type": "markdown",
   "metadata": {},
   "source": [
    "### Голосующий ансамбль"
   ]
  },
  {
   "cell_type": "code",
   "execution_count": 198,
   "metadata": {
    "id": "WHrQZ6HU0GsR"
   },
   "outputs": [],
   "source": [
    "X_train, X_test, y_train, y_test = train_test_split(X, y, test_size= 0.2, random_state=42, shuffle = True)"
   ]
  },
  {
   "cell_type": "code",
   "execution_count": 199,
   "metadata": {
    "id": "qEFuA5jY0GuZ"
   },
   "outputs": [
    {
     "name": "stdout",
     "output_type": "stream",
     "text": [
      "Средняя точность на тесте при кросс-валидации: 0.6946325937374229\n"
     ]
    }
   ],
   "source": [
    "kfold = model_selection.KFold(n_splits=5)\n",
    "estimators = []\n",
    "RF = RandomForestClassifier(max_depth=14, n_estimators=128 )\n",
    "estimators.append(('RandomForest', RF))\n",
    "clf = tree.DecisionTreeClassifier(criterion='gini', max_depth=14)\n",
    "estimators.append(('DecisionTree', clf))\n",
    "KN = KNeighborsClassifier(n_neighbors=29)\n",
    "estimators.append(('KNN', KN))\n",
    "ensemble = VotingClassifier(estimators, voting = 'soft')\n",
    "results = cross_val_score(ensemble, X, y, cv=kfold,scoring=f_score)\n",
    "print('Средняя точность на тесте при кросс-валидации:',results.mean())"
   ]
  },
  {
   "cell_type": "code",
   "execution_count": 200,
   "metadata": {},
   "outputs": [],
   "source": [
    "s = time.time()\n",
    "ensemble.fit(X_train, y_train)\n",
    "time_learn = time.time()-s"
   ]
  },
  {
   "cell_type": "code",
   "execution_count": 201,
   "metadata": {},
   "outputs": [
    {
     "name": "stdout",
     "output_type": "stream",
     "text": [
      "roc-auc: 0.9052024442244397\n",
      "accuracy: 0.8463855421686747\n",
      "precision: 0.7507389162561576\n",
      "recall: 0.6501706484641638\n",
      "f1: 0.6968449931412893\n",
      "cross_val_f1: 0.6927375120255794\n"
     ]
    }
   ],
   "source": [
    "y_pred = ensemble.predict(X_test)\n",
    "y_score = ensemble.predict_proba(X_test)[:,1]\n",
    "f_score = make_scorer(f1_score)\n",
    "cross_val=cross_val_score(ensemble,  X, y,  cv = kfold, scoring=f_score).mean()\n",
    "\n",
    "print('roc-auc:', roc_auc_score(y_test, y_score))\n",
    "print('accuracy:', accuracy_score(y_test, y_pred))\n",
    "print('precision:', precision_score(y_test, y_pred))\n",
    "print('recall:', recall_score(y_test, y_pred))\n",
    "print('f1:', f1_score(y_test, y_pred))\n",
    "print('cross_val_f1:', cross_val)"
   ]
  },
  {
   "cell_type": "code",
   "execution_count": 205,
   "metadata": {},
   "outputs": [],
   "source": [
    "ensemb = pd.DataFrame(index=['roc-auc', 'accuracy','precision', 'recall', 'f1','cross_val_f1','time'])\n",
    "ensemb['RandomForest_GS'] = table_best['RandomForest_GS']\n",
    "ensemb['DecisionTree_GS'] = table_best['DecisionTree_GS']\n",
    "ensemb['KNN_GS'] = table_best['KNN_GS']\n",
    "\n",
    "ensemb['Ensemble_3'] = [roc_auc_score(y_test, y_score), accuracy_score(y_test, y_pred), \n",
    "                        precision_score(y_test, y_pred), recall_score(y_test, y_pred), \n",
    "                        f1_score(y_test, y_pred), cross_val, time_learn]"
   ]
  },
  {
   "cell_type": "code",
   "execution_count": 206,
   "metadata": {},
   "outputs": [
    {
     "data": {
      "text/html": [
       "<div>\n",
       "<style scoped>\n",
       "    .dataframe tbody tr th:only-of-type {\n",
       "        vertical-align: middle;\n",
       "    }\n",
       "\n",
       "    .dataframe tbody tr th {\n",
       "        vertical-align: top;\n",
       "    }\n",
       "\n",
       "    .dataframe thead th {\n",
       "        text-align: right;\n",
       "    }\n",
       "</style>\n",
       "<table border=\"1\" class=\"dataframe\">\n",
       "  <thead>\n",
       "    <tr style=\"text-align: right;\">\n",
       "      <th></th>\n",
       "      <th>RandomForest_GS</th>\n",
       "      <th>DecisionTree_GS</th>\n",
       "      <th>KNN_GS</th>\n",
       "      <th>Ensemble_3</th>\n",
       "    </tr>\n",
       "  </thead>\n",
       "  <tbody>\n",
       "    <tr>\n",
       "      <th>roc-auc</th>\n",
       "      <td>0.909937</td>\n",
       "      <td>0.876470</td>\n",
       "      <td>0.860384</td>\n",
       "      <td>0.905202</td>\n",
       "    </tr>\n",
       "    <tr>\n",
       "      <th>accuracy</th>\n",
       "      <td>0.848703</td>\n",
       "      <td>0.846386</td>\n",
       "      <td>0.810704</td>\n",
       "      <td>0.846386</td>\n",
       "    </tr>\n",
       "    <tr>\n",
       "      <th>precision</th>\n",
       "      <td>0.788654</td>\n",
       "      <td>0.731574</td>\n",
       "      <td>0.683179</td>\n",
       "      <td>0.750739</td>\n",
       "    </tr>\n",
       "    <tr>\n",
       "      <th>recall</th>\n",
       "      <td>0.604949</td>\n",
       "      <td>0.686007</td>\n",
       "      <td>0.564846</td>\n",
       "      <td>0.650171</td>\n",
       "    </tr>\n",
       "    <tr>\n",
       "      <th>f1</th>\n",
       "      <td>0.684693</td>\n",
       "      <td>0.708058</td>\n",
       "      <td>0.618403</td>\n",
       "      <td>0.696845</td>\n",
       "    </tr>\n",
       "    <tr>\n",
       "      <th>cross_val_f1</th>\n",
       "      <td>0.692531</td>\n",
       "      <td>0.691897</td>\n",
       "      <td>0.620118</td>\n",
       "      <td>0.692738</td>\n",
       "    </tr>\n",
       "    <tr>\n",
       "      <th>time</th>\n",
       "      <td>0.898659</td>\n",
       "      <td>0.037927</td>\n",
       "      <td>0.068181</td>\n",
       "      <td>1.010195</td>\n",
       "    </tr>\n",
       "  </tbody>\n",
       "</table>\n",
       "</div>"
      ],
      "text/plain": [
       "              RandomForest_GS  DecisionTree_GS    KNN_GS  Ensemble_3\n",
       "roc-auc              0.909937         0.876470  0.860384    0.905202\n",
       "accuracy             0.848703         0.846386  0.810704    0.846386\n",
       "precision            0.788654         0.731574  0.683179    0.750739\n",
       "recall               0.604949         0.686007  0.564846    0.650171\n",
       "f1                   0.684693         0.708058  0.618403    0.696845\n",
       "cross_val_f1         0.692531         0.691897  0.620118    0.692738\n",
       "time                 0.898659         0.037927  0.068181    1.010195"
      ]
     },
     "execution_count": 206,
     "metadata": {},
     "output_type": "execute_result"
    }
   ],
   "source": [
    "ensemb"
   ]
  },
  {
   "cell_type": "code",
   "execution_count": 207,
   "metadata": {},
   "outputs": [
    {
     "name": "stdout",
     "output_type": "stream",
     "text": [
      "Средняя точность на тесте при кросс-валидации: 0.6877600337635388\n"
     ]
    }
   ],
   "source": [
    "kfold = model_selection.KFold(n_splits=5)\n",
    "estimators = []\n",
    "RF = RandomForestClassifier(max_depth=14, n_estimators=128 )\n",
    "estimators.append(('RandomForest', RF))\n",
    "clf = tree.DecisionTreeClassifier(criterion='gini', max_depth=14)\n",
    "estimators.append(('DecisionTree', clf))\n",
    "ensemble = VotingClassifier(estimators, voting = 'soft')\n",
    "results = cross_val_score(ensemble, X, y, cv=kfold,scoring=f_score)\n",
    "print('Средняя точность на тесте при кросс-валидации:',results.mean())"
   ]
  },
  {
   "cell_type": "code",
   "execution_count": 208,
   "metadata": {},
   "outputs": [],
   "source": [
    "s = time.time()\n",
    "ensemble.fit(X_train, y_train)\n",
    "time_learn = time.time()-s"
   ]
  },
  {
   "cell_type": "code",
   "execution_count": 209,
   "metadata": {},
   "outputs": [
    {
     "name": "stdout",
     "output_type": "stream",
     "text": [
      "roc-auc: 0.9055879501775961\n",
      "accuracy: 0.845227062094532\n",
      "precision: 0.7432432432432432\n",
      "recall: 0.6569965870307167\n",
      "f1: 0.6974637681159421\n",
      "cross_val_f1: 0.6879273948671716\n"
     ]
    }
   ],
   "source": [
    "y_pred = ensemble.predict(X_test)\n",
    "y_score = ensemble.predict_proba(X_test)[:,1]\n",
    "f_score = make_scorer(f1_score)\n",
    "cross_val=cross_val_score(ensemble,  X, y,  cv = kfold, scoring=f_score).mean()\n",
    "\n",
    "print('roc-auc:', roc_auc_score(y_test, y_score))\n",
    "print('accuracy:', accuracy_score(y_test, y_pred))\n",
    "print('precision:', precision_score(y_test, y_pred))\n",
    "print('recall:', recall_score(y_test, y_pred))\n",
    "print('f1:', f1_score(y_test, y_pred))\n",
    "print('cross_val_f1:', cross_val)"
   ]
  },
  {
   "cell_type": "code",
   "execution_count": 210,
   "metadata": {},
   "outputs": [],
   "source": [
    "ensemb['Ensemble_2'] = [roc_auc_score(y_test, y_score), accuracy_score(y_test, y_pred), \n",
    "                        precision_score(y_test, y_pred), recall_score(y_test, y_pred), \n",
    "                        f1_score(y_test, y_pred), cross_val, time_learn]"
   ]
  },
  {
   "cell_type": "code",
   "execution_count": 211,
   "metadata": {},
   "outputs": [
    {
     "data": {
      "text/html": [
       "<div>\n",
       "<style scoped>\n",
       "    .dataframe tbody tr th:only-of-type {\n",
       "        vertical-align: middle;\n",
       "    }\n",
       "\n",
       "    .dataframe tbody tr th {\n",
       "        vertical-align: top;\n",
       "    }\n",
       "\n",
       "    .dataframe thead th {\n",
       "        text-align: right;\n",
       "    }\n",
       "</style>\n",
       "<table border=\"1\" class=\"dataframe\">\n",
       "  <thead>\n",
       "    <tr style=\"text-align: right;\">\n",
       "      <th></th>\n",
       "      <th>RandomForest_GS</th>\n",
       "      <th>DecisionTree_GS</th>\n",
       "      <th>KNN_GS</th>\n",
       "      <th>Ensemble_3</th>\n",
       "      <th>Ensemble_2</th>\n",
       "    </tr>\n",
       "  </thead>\n",
       "  <tbody>\n",
       "    <tr>\n",
       "      <th>roc-auc</th>\n",
       "      <td>0.909937</td>\n",
       "      <td>0.876470</td>\n",
       "      <td>0.860384</td>\n",
       "      <td>0.905202</td>\n",
       "      <td>0.905588</td>\n",
       "    </tr>\n",
       "    <tr>\n",
       "      <th>accuracy</th>\n",
       "      <td>0.848703</td>\n",
       "      <td>0.846386</td>\n",
       "      <td>0.810704</td>\n",
       "      <td>0.846386</td>\n",
       "      <td>0.845227</td>\n",
       "    </tr>\n",
       "    <tr>\n",
       "      <th>precision</th>\n",
       "      <td>0.788654</td>\n",
       "      <td>0.731574</td>\n",
       "      <td>0.683179</td>\n",
       "      <td>0.750739</td>\n",
       "      <td>0.743243</td>\n",
       "    </tr>\n",
       "    <tr>\n",
       "      <th>recall</th>\n",
       "      <td>0.604949</td>\n",
       "      <td>0.686007</td>\n",
       "      <td>0.564846</td>\n",
       "      <td>0.650171</td>\n",
       "      <td>0.656997</td>\n",
       "    </tr>\n",
       "    <tr>\n",
       "      <th>f1</th>\n",
       "      <td>0.684693</td>\n",
       "      <td>0.708058</td>\n",
       "      <td>0.618403</td>\n",
       "      <td>0.696845</td>\n",
       "      <td>0.697464</td>\n",
       "    </tr>\n",
       "    <tr>\n",
       "      <th>cross_val_f1</th>\n",
       "      <td>0.692531</td>\n",
       "      <td>0.691897</td>\n",
       "      <td>0.620118</td>\n",
       "      <td>0.692738</td>\n",
       "      <td>0.687927</td>\n",
       "    </tr>\n",
       "    <tr>\n",
       "      <th>time</th>\n",
       "      <td>0.898659</td>\n",
       "      <td>0.037927</td>\n",
       "      <td>0.068181</td>\n",
       "      <td>1.010195</td>\n",
       "      <td>0.986578</td>\n",
       "    </tr>\n",
       "  </tbody>\n",
       "</table>\n",
       "</div>"
      ],
      "text/plain": [
       "              RandomForest_GS  DecisionTree_GS    KNN_GS  Ensemble_3  \\\n",
       "roc-auc              0.909937         0.876470  0.860384    0.905202   \n",
       "accuracy             0.848703         0.846386  0.810704    0.846386   \n",
       "precision            0.788654         0.731574  0.683179    0.750739   \n",
       "recall               0.604949         0.686007  0.564846    0.650171   \n",
       "f1                   0.684693         0.708058  0.618403    0.696845   \n",
       "cross_val_f1         0.692531         0.691897  0.620118    0.692738   \n",
       "time                 0.898659         0.037927  0.068181    1.010195   \n",
       "\n",
       "              Ensemble_2  \n",
       "roc-auc         0.905588  \n",
       "accuracy        0.845227  \n",
       "precision       0.743243  \n",
       "recall          0.656997  \n",
       "f1              0.697464  \n",
       "cross_val_f1    0.687927  \n",
       "time            0.986578  "
      ]
     },
     "execution_count": 211,
     "metadata": {},
     "output_type": "execute_result"
    }
   ],
   "source": [
    "ensemb"
   ]
  },
  {
   "cell_type": "code",
   "execution_count": null,
   "metadata": {},
   "outputs": [],
   "source": []
  }
 ],
 "metadata": {
  "colab": {
   "provenance": []
  },
  "kernelspec": {
   "display_name": "Python 3",
   "language": "python",
   "name": "python3"
  },
  "language_info": {
   "codemirror_mode": {
    "name": "ipython",
    "version": 3
   },
   "file_extension": ".py",
   "mimetype": "text/x-python",
   "name": "python",
   "nbconvert_exporter": "python",
   "pygments_lexer": "ipython3",
   "version": "3.8.3"
  }
 },
 "nbformat": 4,
 "nbformat_minor": 1
}
